{
  "nbformat": 4,
  "nbformat_minor": 0,
  "metadata": {
    "colab": {
      "name": "latent_factor_recommender.ipynb",
      "provenance": []
    },
    "kernelspec": {
      "name": "python3",
      "display_name": "Python 3"
    }
  },
  "cells": [
    {
      "cell_type": "code",
      "metadata": {
        "id": "7nx3DOTotxmF"
      },
      "source": [
        "import numpy as np\r\n",
        "import matplotlib.pyplot as pl\r\n",
        "pl.close('all')\r\n",
        "dataPath = '/content/drive/MyDrive/hw2/q3/data/ratings.train.txt'"
      ],
      "execution_count": null,
      "outputs": []
    },
    {
      "cell_type": "code",
      "metadata": {
        "id": "5ARFZ87atzWT"
      },
      "source": [
        "# check ranges of i and u\r\n",
        "with open(dataPath) as f:\r\n",
        "   mi = mu = float('inf')\r\n",
        "   Mi = Mu = -float('inf')\r\n",
        "   for line in f:\r\n",
        "       i, u, R = map(int, line.split())\r\n",
        "       mi = min(mi, i)\r\n",
        "       mu = min(mu, u)\r\n",
        "       Mi = max(Mi, i)\r\n",
        "       Mu = max(Mu, u)"
      ],
      "execution_count": null,
      "outputs": []
    },
    {
      "cell_type": "code",
      "metadata": {
        "colab": {
          "base_uri": "https://localhost:8080/"
        },
        "id": "LXFZHbpyuvey",
        "outputId": "41a80261-99e3-46ce-e66a-afeb01919c54"
      },
      "source": [
        "Mu"
      ],
      "execution_count": null,
      "outputs": [
        {
          "output_type": "execute_result",
          "data": {
            "text/plain": [
              "1682"
            ]
          },
          "metadata": {
            "tags": []
          },
          "execution_count": 3
        }
      ]
    },
    {
      "cell_type": "code",
      "metadata": {
        "colab": {
          "base_uri": "https://localhost:8080/"
        },
        "id": "i8FnBCAyuwxG",
        "outputId": "51747694-3b72-4024-bedb-b7180f073ec8"
      },
      "source": [
        "Mi"
      ],
      "execution_count": null,
      "outputs": [
        {
          "output_type": "execute_result",
          "data": {
            "text/plain": [
              "943"
            ]
          },
          "metadata": {
            "tags": []
          },
          "execution_count": 4
        }
      ]
    },
    {
      "cell_type": "code",
      "metadata": {
        "id": "aLCR4a45tzT2"
      },
      "source": [
        "m = 943\r\n",
        "n = 1682\r\n",
        "\r\n",
        "k = 20\r\n",
        "reg = .1\r\n",
        "numIter = 40\r\n",
        "lr = .01\r\n",
        "\r\n",
        "np.random.seed(0)"
      ],
      "execution_count": null,
      "outputs": []
    },
    {
      "cell_type": "code",
      "metadata": {
        "id": "0Js2rVp1tzRl"
      },
      "source": [
        "Q = np.random.random((m, k)) * np.sqrt(5 / k)\r\n",
        "P = np.random.random((n, k)) * np.sqrt(5 / k)\r\n",
        "losses = []"
      ],
      "execution_count": null,
      "outputs": []
    },
    {
      "cell_type": "code",
      "metadata": {
        "colab": {
          "base_uri": "https://localhost:8080/",
          "height": 706
        },
        "id": "4gGRMdwktzPJ",
        "outputId": "b3e71476-f5e5-44cd-bcb6-a08730c23de7"
      },
      "source": [
        "fig = pl.figure()\r\n",
        "\r\n",
        "for it in range(numIter):\r\n",
        "\r\n",
        "    with open(dataPath) as f:\r\n",
        "        for line in f:\r\n",
        "            i, u, R = map(int, line.split())\r\n",
        "            i -= 1\r\n",
        "            u -= 1\r\n",
        "\r\n",
        "            R_QPT = R - Q[i] @ P[u].T\r\n",
        "            dQi = lr * 2 * (R_QPT * P[u] - reg * Q[i])\r\n",
        "            dPu = lr * 2 * (R_QPT * Q[i] - reg * P[u])\r\n",
        "            Q[i] += dQi\r\n",
        "            P[u] += dPu\r\n",
        "\r\n",
        "    loss = reg * (np.linalg.norm(P) ** 2 + np.linalg.norm(Q) ** 2)\r\n",
        "\r\n",
        "    with open(dataPath) as f:\r\n",
        "        for line in f:\r\n",
        "            i, u, R = map(int, line.split())\r\n",
        "            i -= 1\r\n",
        "            u -= 1\r\n",
        "            loss += (R - Q[i] @ P[u].T) ** 2\r\n",
        "    losses.append(loss)\r\n",
        "    print(f'Iteration - {it}, Loss = {loss}')\r\n"
      ],
      "execution_count": null,
      "outputs": [
        {
          "output_type": "stream",
          "text": [
            "Iteration - 0, Loss = 83973.28350907064\n",
            "Iteration - 1, Loss = 81335.72634781426\n",
            "Iteration - 2, Loss = 80316.16121742447\n",
            "Iteration - 3, Loss = 79372.93229430106\n",
            "Iteration - 4, Loss = 78159.39461171621\n",
            "Iteration - 5, Loss = 76612.48613800698\n",
            "Iteration - 6, Loss = 74909.37865878627\n",
            "Iteration - 7, Loss = 73244.66768502425\n",
            "Iteration - 8, Loss = 71665.711645145\n",
            "Iteration - 9, Loss = 70146.73658481197\n",
            "Iteration - 10, Loss = 68670.21388098643\n",
            "Iteration - 11, Loss = 67240.34766183503\n",
            "Iteration - 12, Loss = 65871.62434341859\n",
            "Iteration - 13, Loss = 64578.1129931133\n",
            "Iteration - 14, Loss = 63368.84236471254\n",
            "Iteration - 15, Loss = 62247.40420534138\n",
            "Iteration - 16, Loss = 61213.18650215148\n",
            "Iteration - 17, Loss = 60262.8162190484\n",
            "Iteration - 18, Loss = 59391.339749224266\n",
            "Iteration - 19, Loss = 58593.067342387774\n",
            "Iteration - 20, Loss = 57862.123932896175\n",
            "Iteration - 21, Loss = 57192.77555807921\n",
            "Iteration - 22, Loss = 56579.600584337655\n",
            "Iteration - 23, Loss = 56017.56352623898\n",
            "Iteration - 24, Loss = 55502.03350168207\n",
            "Iteration - 25, Loss = 55028.77449564396\n",
            "Iteration - 26, Loss = 54593.923198718985\n",
            "Iteration - 27, Loss = 54193.96263622986\n",
            "Iteration - 28, Loss = 53825.695378961485\n",
            "Iteration - 29, Loss = 53486.21782127392\n",
            "Iteration - 30, Loss = 53172.89596208772\n",
            "Iteration - 31, Loss = 52883.34272659343\n",
            "Iteration - 32, Loss = 52615.396760553675\n",
            "Iteration - 33, Loss = 52367.10262681767\n",
            "Iteration - 34, Loss = 52136.69235281274\n",
            "Iteration - 35, Loss = 51922.56829052519\n",
            "Iteration - 36, Loss = 51723.28725306441\n",
            "Iteration - 37, Loss = 51537.54588774782\n",
            "Iteration - 38, Loss = 51364.16723878943\n",
            "Iteration - 39, Loss = 51202.08844581316\n"
          ],
          "name": "stdout"
        },
        {
          "output_type": "display_data",
          "data": {
            "text/plain": [
              "<Figure size 432x288 with 0 Axes>"
            ]
          },
          "metadata": {
            "tags": []
          }
        }
      ]
    },
    {
      "cell_type": "code",
      "metadata": {
        "id": "ty-jGItstzMw"
      },
      "source": [
        ""
      ],
      "execution_count": null,
      "outputs": []
    },
    {
      "cell_type": "code",
      "metadata": {
        "id": "Qrs2wmLItzKK"
      },
      "source": [
        ""
      ],
      "execution_count": null,
      "outputs": []
    },
    {
      "cell_type": "code",
      "metadata": {
        "id": "LbUkiNudtzIB"
      },
      "source": [
        ""
      ],
      "execution_count": null,
      "outputs": []
    },
    {
      "cell_type": "code",
      "metadata": {
        "id": "mHqL7UzEtzFp"
      },
      "source": [
        ""
      ],
      "execution_count": null,
      "outputs": []
    },
    {
      "cell_type": "code",
      "metadata": {
        "id": "f6dbCExYtzDZ"
      },
      "source": [
        ""
      ],
      "execution_count": null,
      "outputs": []
    },
    {
      "cell_type": "code",
      "metadata": {
        "id": "D0uAZnYFtzA_"
      },
      "source": [
        ""
      ],
      "execution_count": null,
      "outputs": []
    }
  ]
}