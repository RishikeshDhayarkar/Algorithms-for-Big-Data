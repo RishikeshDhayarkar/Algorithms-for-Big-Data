{
  "nbformat": 4,
  "nbformat_minor": 0,
  "metadata": {
    "colab": {
      "name": "Apriori.ipynb",
      "provenance": [],
      "collapsed_sections": []
    },
    "kernelspec": {
      "name": "python3",
      "display_name": "Python 3"
    }
  },
  "cells": [
    {
      "cell_type": "code",
      "metadata": {
        "id": "0bDeIJCLvTKr"
      },
      "source": [
        "!pip install pyspark\r\n",
        "!pip install -U -q PyDrive\r\n",
        "!apt install openjdk-8-jdk-headless -qq\r\n",
        "import os\r\n",
        "os.environ[\"JAVA_HOME\"] = \"/usr/lib/jvm/java-8-openjdk-amd64\""
      ],
      "execution_count": null,
      "outputs": []
    },
    {
      "cell_type": "code",
      "metadata": {
        "id": "vliHg6uqvrpL"
      },
      "source": [
        "# Let's import the libraries we will need\r\n",
        "import pandas as pd\r\n",
        "import numpy as np\r\n",
        "import matplotlib.pyplot as plt\r\n",
        "%matplotlib inline\r\n",
        "\r\n",
        "import pyspark\r\n",
        "from pyspark.sql import *\r\n",
        "from pyspark.sql.functions import *\r\n",
        "from pyspark import SparkContext, SparkConf"
      ],
      "execution_count": null,
      "outputs": []
    },
    {
      "cell_type": "code",
      "metadata": {
        "id": "hy141ikpvrbX"
      },
      "source": [
        "import re, sys, operator\r\n",
        "from pyspark import SparkConf, SparkContext\r\n",
        "sc = SparkContext(conf=SparkConf())"
      ],
      "execution_count": null,
      "outputs": []
    },
    {
      "cell_type": "code",
      "metadata": {
        "id": "LDVDYLeMvrV1"
      },
      "source": [
        "lines = sc.textFile('/content/browsing.txt')\r\n",
        "baskets = lines.map(lambda l: l.split())\r\n",
        "N = baskets.count()"
      ],
      "execution_count": null,
      "outputs": []
    },
    {
      "cell_type": "code",
      "metadata": {
        "colab": {
          "base_uri": "https://localhost:8080/"
        },
        "id": "j199NXnXv_MU",
        "outputId": "742fed34-540a-4a37-989b-8d1c08068432"
      },
      "source": [
        "baskets.take(5)"
      ],
      "execution_count": null,
      "outputs": [
        {
          "output_type": "execute_result",
          "data": {
            "text/plain": [
              "[['FRO11987', 'ELE17451', 'ELE89019', 'SNA90258', 'GRO99222'],\n",
              " ['GRO99222',\n",
              "  'GRO12298',\n",
              "  'FRO12685',\n",
              "  'ELE91550',\n",
              "  'SNA11465',\n",
              "  'ELE26917',\n",
              "  'ELE52966',\n",
              "  'FRO90334',\n",
              "  'SNA30755',\n",
              "  'ELE17451',\n",
              "  'FRO84225',\n",
              "  'SNA80192'],\n",
              " ['ELE17451', 'GRO73461', 'DAI22896', 'SNA99873', 'FRO86643'],\n",
              " ['ELE17451', 'ELE37798', 'FRO86643', 'GRO56989', 'ELE23393', 'SNA11465'],\n",
              " ['ELE17451',\n",
              "  'SNA69641',\n",
              "  'FRO86643',\n",
              "  'FRO78087',\n",
              "  'SNA11465',\n",
              "  'GRO39357',\n",
              "  'ELE28573',\n",
              "  'ELE11375',\n",
              "  'DAI54444']]"
            ]
          },
          "metadata": {
            "tags": []
          },
          "execution_count": 8
        }
      ]
    },
    {
      "cell_type": "code",
      "metadata": {
        "colab": {
          "base_uri": "https://localhost:8080/"
        },
        "id": "6MRg3qQwv_Jd",
        "outputId": "6f085c0a-4d0c-44ef-f13b-a626c30d1fbb"
      },
      "source": [
        "N"
      ],
      "execution_count": null,
      "outputs": [
        {
          "output_type": "execute_result",
          "data": {
            "text/plain": [
              "31101"
            ]
          },
          "metadata": {
            "tags": []
          },
          "execution_count": 9
        }
      ]
    },
    {
      "cell_type": "code",
      "metadata": {
        "colab": {
          "base_uri": "https://localhost:8080/"
        },
        "id": "4uN7AoQev_Gw",
        "outputId": "c12dbcb0-bcb1-46e4-9891-da00a96e71d3"
      },
      "source": [
        "baskets = baskets.map(lambda b: sorted(set(b)))"
      ],
      "execution_count": null,
      "outputs": [
        {
          "output_type": "execute_result",
          "data": {
            "text/plain": [
              "PythonRDD[5] at RDD at PythonRDD.scala:53"
            ]
          },
          "metadata": {
            "tags": []
          },
          "execution_count": 10
        }
      ]
    },
    {
      "cell_type": "code",
      "metadata": {
        "colab": {
          "base_uri": "https://localhost:8080/"
        },
        "id": "Y5NbabpMwhTF",
        "outputId": "28ada99c-c5fb-411b-b2cf-ae5ae9bdfae8"
      },
      "source": [
        "baskets.take(5)"
      ],
      "execution_count": null,
      "outputs": [
        {
          "output_type": "execute_result",
          "data": {
            "text/plain": [
              "[['ELE17451', 'ELE89019', 'FRO11987', 'GRO99222', 'SNA90258'],\n",
              " ['ELE17451',\n",
              "  'ELE26917',\n",
              "  'ELE52966',\n",
              "  'ELE91550',\n",
              "  'FRO12685',\n",
              "  'FRO84225',\n",
              "  'FRO90334',\n",
              "  'GRO12298',\n",
              "  'GRO99222',\n",
              "  'SNA11465',\n",
              "  'SNA30755',\n",
              "  'SNA80192'],\n",
              " ['DAI22896', 'ELE17451', 'FRO86643', 'GRO73461', 'SNA99873'],\n",
              " ['ELE17451', 'ELE23393', 'ELE37798', 'FRO86643', 'GRO56989', 'SNA11465'],\n",
              " ['DAI54444',\n",
              "  'ELE11375',\n",
              "  'ELE17451',\n",
              "  'ELE28573',\n",
              "  'FRO78087',\n",
              "  'FRO86643',\n",
              "  'GRO39357',\n",
              "  'SNA11465',\n",
              "  'SNA69641']]"
            ]
          },
          "metadata": {
            "tags": []
          },
          "execution_count": 11
        }
      ]
    },
    {
      "cell_type": "code",
      "metadata": {
        "id": "HWNMehmMwhQu"
      },
      "source": [
        "def singles_helper(basket):\r\n",
        "    ret = []\r\n",
        "    for item in basket:\r\n",
        "        ret.append((item, 1))\r\n",
        "    return ret"
      ],
      "execution_count": null,
      "outputs": []
    },
    {
      "cell_type": "code",
      "metadata": {
        "colab": {
          "base_uri": "https://localhost:8080/"
        },
        "id": "RY8Jx4RXwhOs",
        "outputId": "982806df-a2fd-4313-c0e9-15d347bfb9db"
      },
      "source": [
        "singles_support = baskets.flatMap(singles_helper)\r\n",
        "singles_support.take(5)"
      ],
      "execution_count": null,
      "outputs": [
        {
          "output_type": "execute_result",
          "data": {
            "text/plain": [
              "[('ELE17451', 1),\n",
              " ('ELE89019', 1),\n",
              " ('FRO11987', 1),\n",
              " ('GRO99222', 1),\n",
              " ('SNA90258', 1)]"
            ]
          },
          "metadata": {
            "tags": []
          },
          "execution_count": 14
        }
      ]
    },
    {
      "cell_type": "code",
      "metadata": {
        "colab": {
          "base_uri": "https://localhost:8080/"
        },
        "id": "V8MkSZ6UwhL_",
        "outputId": "73aafde0-a2c0-4150-9f90-e7a688c70be4"
      },
      "source": [
        "singles_support = singles_support.reduceByKey(operator.add)\r\n",
        "singles_support.take(5)"
      ],
      "execution_count": null,
      "outputs": [
        {
          "output_type": "execute_result",
          "data": {
            "text/plain": [
              "[('FRO11987', 104),\n",
              " ('SNA90258', 550),\n",
              " ('ELE52966', 380),\n",
              " ('ELE91550', 23),\n",
              " ('FRO84225', 74)]"
            ]
          },
          "metadata": {
            "tags": []
          },
          "execution_count": 15
        }
      ]
    },
    {
      "cell_type": "code",
      "metadata": {
        "colab": {
          "base_uri": "https://localhost:8080/"
        },
        "id": "CxHKDngZw3Ta",
        "outputId": "21a375e1-e634-41b2-e7a3-5e0afed6f3b7"
      },
      "source": [
        "singles_support = singles_support.filter(lambda x: x[1] >= 100)\r\n",
        "singles_support.take(5)"
      ],
      "execution_count": null,
      "outputs": [
        {
          "output_type": "execute_result",
          "data": {
            "text/plain": [
              "[('FRO11987', 104),\n",
              " ('SNA90258', 550),\n",
              " ('ELE52966', 380),\n",
              " ('SNA80192', 258),\n",
              " ('DAI22896', 1219)]"
            ]
          },
          "metadata": {
            "tags": []
          },
          "execution_count": 16
        }
      ]
    },
    {
      "cell_type": "code",
      "metadata": {
        "id": "3D1MTgpVw3Q7"
      },
      "source": [
        "singles_support_b = {}\r\n",
        "for item, support in singles_support.collect():\r\n",
        "    singles_support_b[item] = support"
      ],
      "execution_count": null,
      "outputs": []
    },
    {
      "cell_type": "code",
      "metadata": {
        "id": "7PA4DwxLw3OY"
      },
      "source": [
        "singles_support_b = sc.broadcast(singles_support_b)"
      ],
      "execution_count": null,
      "outputs": []
    },
    {
      "cell_type": "code",
      "metadata": {
        "id": "r2lkJ5dXzDiV"
      },
      "source": [
        "def doubles_helper(basket):\r\n",
        "    singles = singles_support_b.value\r\n",
        "    ret = []\r\n",
        "    for i in range(len(basket)):\r\n",
        "        if basket[i] in singles:\r\n",
        "            for j in range(i):\r\n",
        "                if basket[j] in singles:\r\n",
        "                    ret.append(((basket[j], basket[i]), 1)) # basket is sorted\r\n",
        "    return ret"
      ],
      "execution_count": null,
      "outputs": []
    },
    {
      "cell_type": "code",
      "metadata": {
        "colab": {
          "base_uri": "https://localhost:8080/"
        },
        "id": "COkaMI4rzDdX",
        "outputId": "d79323a1-5c19-4e9c-d8ac-be6d8dd4443b"
      },
      "source": [
        "doubles_support = baskets.flatMap(doubles_helper)\r\n",
        "doubles_support.take(5)"
      ],
      "execution_count": null,
      "outputs": [
        {
          "output_type": "execute_result",
          "data": {
            "text/plain": [
              "[(('ELE17451', 'FRO11987'), 1),\n",
              " (('ELE17451', 'GRO99222'), 1),\n",
              " (('FRO11987', 'GRO99222'), 1),\n",
              " (('ELE17451', 'SNA90258'), 1),\n",
              " (('FRO11987', 'SNA90258'), 1)]"
            ]
          },
          "metadata": {
            "tags": []
          },
          "execution_count": 29
        }
      ]
    },
    {
      "cell_type": "code",
      "metadata": {
        "colab": {
          "base_uri": "https://localhost:8080/"
        },
        "id": "hUjz2O4g0ZXN",
        "outputId": "08e5de5e-4d1b-427c-e071-0acdbee1100a"
      },
      "source": [
        "doubles_support = doubles_support.reduceByKey(operator.add)\r\n",
        "doubles_support.take(5)"
      ],
      "execution_count": null,
      "outputs": [
        {
          "output_type": "execute_result",
          "data": {
            "text/plain": [
              "[(('ELE17451', 'GRO99222'), 148),\n",
              " (('FRO11987', 'SNA90258'), 2),\n",
              " (('ELE17451', 'ELE26917'), 314),\n",
              " (('ELE17451', 'GRO12298'), 36),\n",
              " (('ELE26917', 'GRO12298'), 17)]"
            ]
          },
          "metadata": {
            "tags": []
          },
          "execution_count": 30
        }
      ]
    },
    {
      "cell_type": "code",
      "metadata": {
        "colab": {
          "base_uri": "https://localhost:8080/"
        },
        "id": "1xNYo80_0ZUa",
        "outputId": "9be8e079-1d09-4f11-89a8-51d0bbe0cb09"
      },
      "source": [
        "doubles_support = doubles_support.filter(lambda x: x[1] >= 100)\r\n",
        "doubles_support.take(5)"
      ],
      "execution_count": null,
      "outputs": [
        {
          "output_type": "execute_result",
          "data": {
            "text/plain": [
              "[(('ELE17451', 'GRO99222'), 148),\n",
              " (('ELE17451', 'ELE26917'), 314),\n",
              " (('ELE26917', 'GRO99222'), 192),\n",
              " (('ELE17451', 'SNA30755'), 111),\n",
              " (('DAI22896', 'GRO73461'), 304)]"
            ]
          },
          "metadata": {
            "tags": []
          },
          "execution_count": 31
        }
      ]
    },
    {
      "cell_type": "code",
      "metadata": {
        "id": "agldVbN60ZSP"
      },
      "source": [
        "def confidence_doubles_helper(double_support):\r\n",
        "    double, support = double_support\r\n",
        "    support = float(support)\r\n",
        "    u, v = double\r\n",
        "    singles = singles_support_b.value\r\n",
        "    uv_conf = support / singles[u]\r\n",
        "    vu_conf = support / singles[v]\r\n",
        "    return (('%s -> %s' % (u, v), uv_conf),\r\n",
        "            ('%s -> %s' % (v, u), vu_conf))"
      ],
      "execution_count": null,
      "outputs": []
    },
    {
      "cell_type": "code",
      "metadata": {
        "colab": {
          "base_uri": "https://localhost:8080/"
        },
        "id": "aIhg_Gkp0ZPY",
        "outputId": "f6b7edcf-b1a7-4976-a970-5afe98857c47"
      },
      "source": [
        "doubles_conf = doubles_support.flatMap(confidence_doubles_helper)\r\n",
        "doubles_conf.take(5)"
      ],
      "execution_count": null,
      "outputs": [
        {
          "output_type": "execute_result",
          "data": {
            "text/plain": [
              "[('ELE17451 -> GRO99222', 0.03819354838709677),\n",
              " ('GRO99222 -> ELE17451', 0.16335540838852097),\n",
              " ('ELE17451 -> ELE26917', 0.08103225806451612),\n",
              " ('ELE26917 -> ELE17451', 0.13699825479930192),\n",
              " ('ELE26917 -> GRO99222', 0.08376963350785341)]"
            ]
          },
          "metadata": {
            "tags": []
          },
          "execution_count": 34
        }
      ]
    },
    {
      "cell_type": "code",
      "metadata": {
        "colab": {
          "base_uri": "https://localhost:8080/"
        },
        "id": "QAIpPArO1LVl",
        "outputId": "93be4eb0-c5ea-431e-ff06-8ed62262aad2"
      },
      "source": [
        "doubles_conf = doubles_conf.sortBy(lambda x: (-x[1], x[0]))\r\n",
        "doubles_conf.take(5)"
      ],
      "execution_count": null,
      "outputs": [
        {
          "output_type": "execute_result",
          "data": {
            "text/plain": [
              "[('DAI93865 -> FRO40251', 1.0),\n",
              " ('GRO85051 -> FRO40251', 0.999176276771005),\n",
              " ('GRO38636 -> FRO40251', 0.9906542056074766),\n",
              " ('ELE12951 -> FRO40251', 0.9905660377358491),\n",
              " ('DAI88079 -> FRO40251', 0.9867256637168141)]"
            ]
          },
          "metadata": {
            "tags": []
          },
          "execution_count": 35
        }
      ]
    },
    {
      "cell_type": "code",
      "metadata": {
        "id": "iVxjS54D1LTE"
      },
      "source": [
        "doubles_support_b = {}\r\n",
        "for entry, support in doubles_support.collect():\r\n",
        "    doubles_support_b[entry] = support"
      ],
      "execution_count": null,
      "outputs": []
    },
    {
      "cell_type": "code",
      "metadata": {
        "id": "2G_HKtFZ1LQp"
      },
      "source": [
        "doubles_support_b = sc.broadcast(doubles_support_b)"
      ],
      "execution_count": null,
      "outputs": []
    },
    {
      "cell_type": "code",
      "metadata": {
        "id": "tuAoTRRa1LOJ"
      },
      "source": [
        "def triples_helper(basket):\r\n",
        "    doubles = doubles_support_b.value\r\n",
        "    singles = singles_support_b.value\r\n",
        "    ret = []\r\n",
        "    for i in range(len(basket)):\r\n",
        "        if basket[i] not in singles:\r\n",
        "            continue\r\n",
        "        for j in range(i):\r\n",
        "            if basket[j] not in singles:\r\n",
        "                continue\r\n",
        "            if (basket[j], basket[i]) not in doubles:\r\n",
        "                continue\r\n",
        "            for k in range(j):\r\n",
        "                if basket[k] not in singles:\r\n",
        "                    continue\r\n",
        "                if (basket[k], basket[j]) not in doubles:\r\n",
        "                    continue\r\n",
        "                if (basket[k], basket[i]) not in doubles:\r\n",
        "                    continue\r\n",
        "                ret.append(((basket[k], basket[j], basket[i]), 1))\r\n",
        "    return ret"
      ],
      "execution_count": null,
      "outputs": []
    },
    {
      "cell_type": "code",
      "metadata": {
        "colab": {
          "base_uri": "https://localhost:8080/"
        },
        "id": "x3H1tJ0X7vim",
        "outputId": "df7ebbcf-0ca7-4457-cab5-3dfe6e3cde7b"
      },
      "source": [
        "triples_support = baskets.flatMap(triples_helper)\r\n",
        "triples_support = triples_support.reduceByKey(operator.add)\r\n",
        "triples_support = triples_support.filter(lambda x: x[1] >= 100)\r\n",
        "triples_support.take(5)"
      ],
      "execution_count": null,
      "outputs": [
        {
          "output_type": "execute_result",
          "data": {
            "text/plain": [
              "[(('ELE17451', 'SNA59903', 'SNA72163'), 127),\n",
              " (('DAI62779', 'ELE17451', 'FRO78087'), 121),\n",
              " (('DAI62779', 'ELE17451', 'ELE26917'), 160),\n",
              " (('DAI62779', 'ELE17451', 'SNA55762'), 157),\n",
              " (('DAI62779', 'ELE17451', 'SNA99873'), 126)]"
            ]
          },
          "metadata": {
            "tags": []
          },
          "execution_count": 41
        }
      ]
    },
    {
      "cell_type": "code",
      "metadata": {
        "id": "tfkJZNMY7vgX"
      },
      "source": [
        "def confidence_triples_helper(triple_support):\r\n",
        "    doubles = doubles_support_b.value\r\n",
        "    triple, support = triple_support\r\n",
        "    support = float(support)\r\n",
        "    u, v, w = triple\r\n",
        "    uv_w = support / doubles[u, v]\r\n",
        "    uw_v = support / doubles[u, w]\r\n",
        "    vw_u = support / doubles[v, w]\r\n",
        "    return (('(%s, %s) -> %s' % (u, v, w), uv_w),\r\n",
        "            ('(%s, %s) -> %s' % (u, w, v), uw_v),\r\n",
        "            ('(%s, %s) -> %s' % (v, w, u), vw_u))"
      ],
      "execution_count": null,
      "outputs": []
    },
    {
      "cell_type": "code",
      "metadata": {
        "colab": {
          "base_uri": "https://localhost:8080/"
        },
        "id": "UBTNx0Qn7vd2",
        "outputId": "00ae61f6-692a-4edb-eea2-033db9f216e3"
      },
      "source": [
        "triples_conf = triples_support.flatMap(confidence_triples_helper)\r\n",
        "triples_conf = triples_conf.sortBy(lambda x: (-x[1], x[0]))\r\n",
        "triples_conf.take(5)"
      ],
      "execution_count": null,
      "outputs": [
        {
          "output_type": "execute_result",
          "data": {
            "text/plain": [
              "[('(DAI23334, ELE92920) -> DAI62779', 1.0),\n",
              " ('(DAI31081, GRO85051) -> FRO40251', 1.0),\n",
              " ('(DAI55911, GRO85051) -> FRO40251', 1.0),\n",
              " ('(DAI62779, DAI88079) -> FRO40251', 1.0),\n",
              " ('(DAI75645, GRO85051) -> FRO40251', 1.0)]"
            ]
          },
          "metadata": {
            "tags": []
          },
          "execution_count": 43
        }
      ]
    },
    {
      "cell_type": "code",
      "metadata": {
        "id": "6mKeX_DC7vbZ"
      },
      "source": [
        "with open('./out.txt', 'w') as f:\r\n",
        "    f.write(str(doubles_conf.take(5)))\r\n",
        "    f.write('\\n')\r\n",
        "    f.write(str(triples_conf.take(5)))"
      ],
      "execution_count": null,
      "outputs": []
    },
    {
      "cell_type": "code",
      "metadata": {
        "id": "rvh2dv2w89qy"
      },
      "source": [
        ""
      ],
      "execution_count": null,
      "outputs": []
    },
    {
      "cell_type": "code",
      "metadata": {
        "id": "3aOtErGU89oQ"
      },
      "source": [
        ""
      ],
      "execution_count": null,
      "outputs": []
    }
  ]
}