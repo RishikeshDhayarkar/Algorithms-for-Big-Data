{
  "nbformat": 4,
  "nbformat_minor": 0,
  "metadata": {
    "colab": {
      "name": "SON_with_PCY.ipynb",
      "provenance": [],
      "collapsed_sections": []
    },
    "kernelspec": {
      "name": "python3",
      "display_name": "Python 3"
    }
  },
  "cells": [
    {
      "cell_type": "code",
      "metadata": {
        "id": "dBzwjZS0hlGu"
      },
      "source": [
        "!pip install pyspark\r\n",
        "!pip install -U -q PyDrive\r\n",
        "!apt install openjdk-8-jdk-headless -qq\r\n",
        "import os\r\n",
        "os.environ[\"JAVA_HOME\"] = \"/usr/lib/jvm/java-8-openjdk-amd64\""
      ],
      "execution_count": null,
      "outputs": []
    },
    {
      "cell_type": "code",
      "metadata": {
        "id": "D_CClbnziaMv"
      },
      "source": [
        "import collections\r\n",
        "import copy\r\n",
        "import math\r\n",
        "import sys\r\n",
        "import time\r\n",
        "from functools import reduce\r\n",
        "from itertools import combinations\r\n",
        "from operator import add\r\n",
        "\r\n",
        "from pyspark import SparkContext\r\n",
        "\r\n",
        "# TODO change the number of bucket will have different result\r\n",
        "BUCKET_NUMBER = 99"
      ],
      "execution_count": null,
      "outputs": []
    },
    {
      "cell_type": "code",
      "metadata": {
        "id": "1PRAJ9UwiaKG"
      },
      "source": [
        "def hash_func(combination):\r\n",
        "    result = sum(map(lambda x: int(x), list(combination)))\r\n",
        "    return result % BUCKET_NUMBER\r\n",
        "\r\n",
        "\r\n",
        "def check_bitmap(combination, bitmap):\r\n",
        "    return bitmap[hash_func(combination)]\r\n",
        "\r\n",
        "\r\n",
        "def wrapper(singleton_list):\r\n",
        "    return [tuple(item.split(\",\")) for item in singleton_list]\r\n",
        "\r\n",
        "\r\n",
        "def shrink_basket(basket, frequent_singleton):\r\n",
        "    return sorted(list(set(basket).intersection(set(frequent_singleton))))\r\n",
        "\r\n",
        "\r\n",
        "def cmp(pair1, pair2):\r\n",
        "    return True if pair1[:-1] == pair2[:-1] else False\r\n"
      ],
      "execution_count": null,
      "outputs": []
    },
    {
      "cell_type": "code",
      "metadata": {
        "id": "Rr74VKDOiaH4"
      },
      "source": [
        "def gen_permutation(combination_list):\r\n",
        "\r\n",
        "    if combination_list is not None and len(combination_list) > 0:\r\n",
        "        size = len(combination_list[0])\r\n",
        "        permutation_list = list()\r\n",
        "        for index, front_pair in enumerate(combination_list[:-1]):\r\n",
        "            for back_pair in combination_list[index + 1:]:\r\n",
        "                if cmp(front_pair, back_pair):\r\n",
        "                    combination = tuple(sorted(list(set(front_pair).union(set(back_pair)))))\r\n",
        "                    temp_pair = list()\r\n",
        "                    for pair in combinations(combination, size):\r\n",
        "                        temp_pair.append(pair)\r\n",
        "                    if set(temp_pair).issubset(set(combination_list)):\r\n",
        "                        permutation_list.append(combination)\r\n",
        "                else:\r\n",
        "                    break\r\n",
        "\r\n",
        "        return permutation_list"
      ],
      "execution_count": null,
      "outputs": []
    },
    {
      "cell_type": "code",
      "metadata": {
        "id": "wcrYX019iaF1"
      },
      "source": [
        "def find_candidate_itemset(data_baskets, original_support, whole_length):\r\n",
        "\r\n",
        "    # compute support threshold in subset baskets\r\n",
        "    support, data_baskets = gen_ps_threshold(data_baskets, original_support, whole_length)\r\n",
        "    baskets_list = list(data_baskets)\r\n",
        "    # print(\"baskets_list -> \", baskets_list)\r\n",
        "    all_candidate_dict = collections.defaultdict(list)\r\n",
        "    # first phrase of PCY algorithm, acquiring frequent_singleton and bitmap\r\n",
        "    frequent_singleton, bitmap = init_singleton_and_bitmap(baskets_list, support)\r\n",
        "    index = 1\r\n",
        "    candidate_list = frequent_singleton\r\n",
        "    all_candidate_dict[str(index)] = wrapper(frequent_singleton)\r\n",
        "\r\n",
        "    # the second phrase, third phrase .... until the candidate list is empty\r\n",
        "    while None is not candidate_list and len(candidate_list) > 0:\r\n",
        "        index += 1\r\n",
        "        temp_counter = collections.defaultdict(list)\r\n",
        "        for basket in baskets_list:\r\n",
        "            # we dont need to compute basket_item which is not frequent_single\r\n",
        "            basket = shrink_basket(basket, frequent_singleton)\r\n",
        "            if len(basket) >= index:\r\n",
        "                if index == 2:\r\n",
        "                    for pair in combinations(basket, index):\r\n",
        "                        if check_bitmap(pair, bitmap):\r\n",
        "                            # if check_proper_subset(pair, candidate_list):\r\n",
        "                            # this is always true, since you have filter the basket before\r\n",
        "                            temp_counter[pair].append(1)\r\n",
        "\r\n",
        "                if index >= 3:\r\n",
        "                    for candidate_item in candidate_list:\r\n",
        "                        if set(candidate_item).issubset(set(basket)):\r\n",
        "                            temp_counter[candidate_item].append(1)\r\n",
        "\r\n",
        "        # filter the temp_counter\r\n",
        "        filtered_dict = dict(filter(lambda elem: len(elem[1]) >= support, temp_counter.items()))\r\n",
        "        # generate new candidate list\r\n",
        "        candidate_list = gen_permutation(sorted(list(filtered_dict.keys())))\r\n",
        "        if len(filtered_dict) == 0:\r\n",
        "            break\r\n",
        "        all_candidate_dict[str(index)] = list(filtered_dict.keys())\r\n",
        "\r\n",
        "    yield reduce(lambda val1, val2: val1 + val2, all_candidate_dict.values())\r\n"
      ],
      "execution_count": null,
      "outputs": []
    },
    {
      "cell_type": "code",
      "metadata": {
        "id": "s66rH48viaDR"
      },
      "source": [
        "def init_singleton_and_bitmap(baskets, support):\r\n",
        "    \r\n",
        "    bitmap = [0 for _ in range(BUCKET_NUMBER)]\r\n",
        "    temp_counter = collections.defaultdict(list)\r\n",
        "    for basket in baskets:\r\n",
        "        # find frequent singleton\r\n",
        "        for item in basket:\r\n",
        "            temp_counter[item].append(1)\r\n",
        "\r\n",
        "        # find frequent bucket\r\n",
        "        for pair in combinations(basket, 2):\r\n",
        "            key = hash_func(pair)\r\n",
        "            bitmap[key] = (bitmap[key] + 1)\r\n",
        "\r\n",
        "    filtered_dict = dict(filter(lambda elem: len(elem[1]) >= support, temp_counter.items()))\r\n",
        "    frequent_singleton = sorted(list(filtered_dict.keys()))\r\n",
        "    bitmap = list(map(lambda value: True if value >= support else False, bitmap))\r\n",
        "\r\n",
        "    return frequent_singleton, bitmap\r\n"
      ],
      "execution_count": null,
      "outputs": []
    },
    {
      "cell_type": "code",
      "metadata": {
        "id": "dWzoQY4tipmX"
      },
      "source": [
        "def count_frequent_itemset(data_baskets, candidate_pairs):\r\n",
        "    temp_counter = collections.defaultdict(list)\r\n",
        "    for pairs in candidate_pairs:\r\n",
        "        if set(pairs).issubset(set(data_baskets)):\r\n",
        "            temp_counter[pairs].append(1)\r\n",
        "\r\n",
        "    yield [tuple((key, sum(value))) for key, value in temp_counter.items()]"
      ],
      "execution_count": null,
      "outputs": []
    },
    {
      "cell_type": "code",
      "metadata": {
        "id": "c6CwLGv4ipjj"
      },
      "source": [
        "def gen_ps_threshold(partition, support, whole_length):\r\n",
        "    partition = copy.deepcopy(list(partition))\r\n",
        "    return math.ceil(support * len(list(partition)) / whole_length), partition"
      ],
      "execution_count": null,
      "outputs": []
    },
    {
      "cell_type": "code",
      "metadata": {
        "id": "hbn9FqEPiphC"
      },
      "source": [
        "def reformat(itemset_data):\r\n",
        "\r\n",
        "    temp_index = 1\r\n",
        "    result_str = \"\"\r\n",
        "    for pair in itemset_data:\r\n",
        "        if len(pair) == 1:\r\n",
        "            result_str += str(\"(\" + str(pair)[1:-2] + \"),\")\r\n",
        "\r\n",
        "        elif len(pair) != temp_index:\r\n",
        "            result_str = result_str[:-1]\r\n",
        "            result_str += \"\\n\\n\"\r\n",
        "            temp_index = len(pair)\r\n",
        "            result_str += (str(pair) + \",\")\r\n",
        "        else:\r\n",
        "            result_str += (str(pair) + \",\")\r\n",
        "\r\n",
        "    return result_str[:-1]"
      ],
      "execution_count": null,
      "outputs": []
    },
    {
      "cell_type": "code",
      "metadata": {
        "id": "ZbFap9gXipeg"
      },
      "source": [
        "def export_2_file(candidate_data, frequent_data, file_path):\r\n",
        "    with open(file_path, 'w+') as output_file:\r\n",
        "        str_result = 'Candidates:\\n' + reformat(candidate_data) + '\\n\\n' \\\r\n",
        "                     + 'Frequent Itemsets:\\n' + reformat(frequent_data)\r\n",
        "        output_file.write(str_result)\r\n",
        "        output_file.close()"
      ],
      "execution_count": null,
      "outputs": []
    },
    {
      "cell_type": "markdown",
      "metadata": {
        "id": "Gxx2BRJDk-a8"
      },
      "source": [
        "<h2>Main</h2>"
      ]
    },
    {
      "cell_type": "code",
      "metadata": {
        "id": "hsHWhZmyi3Xz"
      },
      "source": [
        "start = time.time()\r\n",
        "case_number = \"1\"  \r\n",
        "support_threshold = \"4\"\r\n",
        "input_csv_path = '/content/drive/MyDrive/yelp_sample/small2.csv'\r\n",
        "output_file_path = '/content/drive/MyDrive/yelp_sample/case_1_out_new'\r\n",
        "\r\n",
        "partition_number = 2\r\n",
        "\r\n",
        "sc = SparkContext.getOrCreate()\r\n",
        "\r\n",
        "raw_rdd = sc.textFile(input_csv_path, partition_number)\r\n",
        "header = raw_rdd.first()\r\n",
        "data_rdd = raw_rdd.filter(lambda line: line != header)\r\n",
        "whole_data_size = None\r\n",
        "basket_rdd = None\r\n"
      ],
      "execution_count": null,
      "outputs": []
    },
    {
      "cell_type": "code",
      "metadata": {
        "colab": {
          "base_uri": "https://localhost:8080/"
        },
        "id": "ud8CNk1PkUyO",
        "outputId": "79b08cc9-2933-45fe-da78-222e87d177e4"
      },
      "source": [
        "if 1 == int(case_number):\r\n",
        "    basket_rdd = data_rdd.map(lambda line: (line.split(',')[0], line.split(',')[1]))\r\n",
        "    basket_rdd = basket_rdd.groupByKey().map(lambda user_items: (user_items[0], sorted(list(set(list(user_items[1]))))))\r\n",
        "    basket_rdd = basket_rdd.map(lambda item_users: item_users[1])\r\n",
        "\r\n",
        "elif 2 == int(case_number):\r\n",
        "    basket_rdd = data_rdd.map(lambda line: (line.split(',')[1], line.split(',')[0]))\r\n",
        "    basket_rdd = basket_rdd.groupByKey().map(lambda user_items: (user_items[0], sorted(list(set(list(user_items[1]))))))\r\n",
        "    basket_rdd = basket_rdd.map(lambda item_users: item_users[1])\r\n",
        "\r\n",
        "basket_rdd.take(3)"
      ],
      "execution_count": null,
      "outputs": [
        {
          "output_type": "execute_result",
          "data": {
            "text/plain": [
              "[['100', '103', '105', '106', '107', '97'],\n",
              " ['100', '101', '103', '104', '106', '107', '108', '97'],\n",
              " ['97', '98']]"
            ]
          },
          "metadata": {
            "tags": []
          },
          "execution_count": 21
        }
      ]
    },
    {
      "cell_type": "code",
      "metadata": {
        "colab": {
          "base_uri": "https://localhost:8080/"
        },
        "id": "lIAhkJPJlpEt",
        "outputId": "7e0c891c-2b3f-41d2-c116-0e9feca97cc1"
      },
      "source": [
        "whole_data_size = basket_rdd.count()\r\n",
        "whole_data_size"
      ],
      "execution_count": null,
      "outputs": [
        {
          "output_type": "execute_result",
          "data": {
            "text/plain": [
              "49"
            ]
          },
          "metadata": {
            "tags": []
          },
          "execution_count": 23
        }
      ]
    },
    {
      "cell_type": "code",
      "metadata": {
        "id": "85HjWfOUlpCP"
      },
      "source": [
        "candidate_itemset = basket_rdd.mapPartitions(lambda partition: find_candidate_itemset(data_baskets=partition, original_support=int(support_threshold),whole_length=whole_data_size)) \r\n",
        "candidate_itemset = candidate_itemset.flatMap(lambda pairs: pairs).distinct() \r\n",
        "candidate_itemset = candidate_itemset.sortBy(lambda pairs: (len(pairs), pairs)).collect()"
      ],
      "execution_count": null,
      "outputs": []
    },
    {
      "cell_type": "code",
      "metadata": {
        "colab": {
          "base_uri": "https://localhost:8080/"
        },
        "id": "0RGWP0uElo_p",
        "outputId": "48d144a2-fbc2-4ccd-cbb4-ad428536af44"
      },
      "source": [
        "candidate_itemset[100:110]"
      ],
      "execution_count": null,
      "outputs": [
        {
          "output_type": "execute_result",
          "data": {
            "text/plain": [
              "[('104', '106'),\n",
              " ('104', '107'),\n",
              " ('104', '108'),\n",
              " ('104', '109'),\n",
              " ('104', '110'),\n",
              " ('104', '111'),\n",
              " ('104', '112'),\n",
              " ('104', '113'),\n",
              " ('104', '114'),\n",
              " ('104', '116')]"
            ]
          },
          "metadata": {
            "tags": []
          },
          "execution_count": 27
        }
      ]
    },
    {
      "cell_type": "code",
      "metadata": {
        "id": "RSjVzuCbnYXc"
      },
      "source": [
        "frequent_itemset = basket_rdd.flatMap(lambda partition: count_frequent_itemset(data_baskets=partition,candidate_pairs=candidate_itemset))\r\n",
        "frequent_itemset = frequent_itemset.flatMap(lambda pairs: pairs).reduceByKey(add)\r\n",
        "frequent_itemset = frequent_itemset.filter(lambda pair_count: pair_count[1] >= int(support_threshold))\r\n",
        "frequent_itemset = frequent_itemset.map(lambda pair_count: pair_count[0])\r\n",
        "frequent_itemset = frequent_itemset.sortBy(lambda pairs: (len(pairs), pairs)).collect()"
      ],
      "execution_count": null,
      "outputs": []
    },
    {
      "cell_type": "code",
      "metadata": {
        "colab": {
          "base_uri": "https://localhost:8080/"
        },
        "id": "17XB6dDdnYUY",
        "outputId": "bf7e0f78-9b1f-45fd-916b-a5183489b1eb"
      },
      "source": [
        "frequent_itemset[100:110]"
      ],
      "execution_count": null,
      "outputs": [
        {
          "output_type": "execute_result",
          "data": {
            "text/plain": [
              "[('104', '107'),\n",
              " ('104', '108'),\n",
              " ('104', '109'),\n",
              " ('104', '110'),\n",
              " ('104', '111'),\n",
              " ('104', '112'),\n",
              " ('104', '113'),\n",
              " ('104', '114'),\n",
              " ('104', '116'),\n",
              " ('104', '117')]"
            ]
          },
          "metadata": {
            "tags": []
          },
          "execution_count": 30
        }
      ]
    },
    {
      "cell_type": "code",
      "metadata": {
        "id": "3GBxhns6nYQz"
      },
      "source": [
        "export_2_file(candidate_data=candidate_itemset,frequent_data=frequent_itemset,file_path=output_file_path)"
      ],
      "execution_count": null,
      "outputs": []
    },
    {
      "cell_type": "code",
      "metadata": {
        "id": "y5CUPzq0lowy"
      },
      "source": [
        ""
      ],
      "execution_count": null,
      "outputs": []
    },
    {
      "cell_type": "code",
      "metadata": {
        "id": "3DE_1B27i8Zq"
      },
      "source": [
        ""
      ],
      "execution_count": null,
      "outputs": []
    },
    {
      "cell_type": "code",
      "metadata": {
        "id": "hhBGQhG6i8XJ"
      },
      "source": [
        ""
      ],
      "execution_count": null,
      "outputs": []
    },
    {
      "cell_type": "code",
      "metadata": {
        "id": "EcP0t2HEi8Uf"
      },
      "source": [
        ""
      ],
      "execution_count": null,
      "outputs": []
    },
    {
      "cell_type": "code",
      "metadata": {
        "id": "AkL8f6JAi8Rg"
      },
      "source": [
        ""
      ],
      "execution_count": null,
      "outputs": []
    },
    {
      "cell_type": "code",
      "metadata": {
        "id": "Fmh7sC8Yi8PI"
      },
      "source": [
        ""
      ],
      "execution_count": null,
      "outputs": []
    }
  ]
}