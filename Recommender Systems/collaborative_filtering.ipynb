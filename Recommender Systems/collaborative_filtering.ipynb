{
  "nbformat": 4,
  "nbformat_minor": 0,
  "metadata": {
    "colab": {
      "name": "collaborative_filtering.ipynb",
      "provenance": [],
      "collapsed_sections": []
    },
    "kernelspec": {
      "name": "python3",
      "display_name": "Python 3"
    }
  },
  "cells": [
    {
      "cell_type": "code",
      "metadata": {
        "id": "0yvChbk3Z0q4"
      },
      "source": [
        "!pip install pyspark\r\n",
        "!pip install -U -q PyDrive\r\n",
        "!apt install openjdk-8-jdk-headless -qq\r\n",
        "import os\r\n",
        "os.environ[\"JAVA_HOME\"] = \"/usr/lib/jvm/java-8-openjdk-amd64\""
      ],
      "execution_count": null,
      "outputs": []
    },
    {
      "cell_type": "code",
      "metadata": {
        "id": "8RN7t3AJaqEy"
      },
      "source": [
        "import pandas as pd\r\n",
        "import numpy as np\r\n",
        "import matplotlib.pyplot as plt\r\n",
        "from pyspark import SparkContext\r\n",
        "from pyspark.mllib.recommendation import ALS, Rating\r\n",
        "import math \r\n",
        "import datetime\r\n",
        "import sys\r\n",
        "\r\n",
        "cf = SparkContext.getOrCreate()"
      ],
      "execution_count": null,
      "outputs": []
    },
    {
      "cell_type": "code",
      "metadata": {
        "id": "s97TySPNZ0jd"
      },
      "source": [
        "def AddRatingsDict(user): #create a dictionary for each user with the business as key and their rating as the value\r\n",
        "    print('h')\r\n",
        "    ratings_dict = {}\r\n",
        "    ratings = user[1]\r\n",
        "    for rating in ratings:\r\n",
        "        if rating[0] not in ratings_dict:\r\n",
        "            ratings_dict[rating[0]] = rating[1]\r\n",
        "        else:\r\n",
        "            ratings_dict[rating[0]] = ratings_dict[rating[0]].append(rating[1])\r\n",
        "    return (user[0],ratings_dict) #return each user and their ratings dictionary"
      ],
      "execution_count": null,
      "outputs": []
    },
    {
      "cell_type": "code",
      "metadata": {
        "id": "3kMxR-QvZt6q"
      },
      "source": [
        "def GetPearsonCorrelation(user,other,train_data2_amend): #gives the pearson correlation for two users\r\n",
        "\tother_user_ratings = train_data2_amend[other] #ratings of the other user\r\n",
        "\tcur_user_ratings = train_data2_amend[user] #ratings of the current user\r\n",
        "\tcorrated_businesses = [value for value in cur_user_ratings.keys() if value in other_user_ratings.keys()] #finds the corrated businesses between the users\r\n",
        "\tif len(corrated_businesses) == 0: # if no corrated businesses, correlation is 0 \r\n",
        "\t\treturn 0 \r\n",
        "\telse: \r\n",
        "\t\tnum_corrated = len(corrated_businesses)\r\n",
        "\t\tcur_ratings = []\r\n",
        "\t\tother_ratings = []\r\n",
        "\t\tfor co in corrated_businesses:\r\n",
        "\t\t\tcur_data = train_data2_amend[user]\r\n",
        "\t\t\tother_data = train_data2_amend[other]\r\n",
        "\t\t\tcur_rating = cur_data[co]\r\n",
        "\t\t\tcur_ratings.append(cur_rating)\r\n",
        "\t\t\tother_rating = other_data[co]\r\n",
        "\t\t\tother_ratings.append(other_rating)\r\n",
        "\t\tcur_mean = sum(cur_ratings)/num_corrated\r\n",
        "\t\tother_mean = sum(other_ratings)/num_corrated \r\n",
        "\t\tnormalized_cur_values = [v- cur_mean for v in cur_ratings] #normalize all ratings with mean \r\n",
        "\t\tnormalized_other_values = [x - other_mean for x in other_ratings ]\r\n",
        "\t\tnumerator = 0 \r\n",
        "\t\tdenominator1 = 0 \r\n",
        "\t\tdenominator2 = 0 \r\n",
        "\t\tfor i in range(len(normalized_cur_values)): #generate numerator and denominator for correlation \r\n",
        "\t\t\tnumerator = numerator + (normalized_cur_values[i]*normalized_other_values[i])\r\n",
        "\t\t\tdenominator1 = denominator1 + (normalized_cur_values[i] * normalized_cur_values[i])\r\n",
        "\t\t\tdenominator2 = denominator2 + (normalized_other_values[i] * normalized_other_values[i])\r\n",
        "\t\tdenominator1 = math.sqrt(denominator1)\r\n",
        "\t\tdenominator2 = math.sqrt(denominator2)\r\n",
        "\t\tdenominator = denominator1 * denominator2\r\n",
        "\t\tif denominator == 0:\r\n",
        "\t\t\treturn 0 \r\n",
        "\t\telse:\r\n",
        "\t\t\tval = numerator/denominator\r\n",
        "\t\t\treturn val"
      ],
      "execution_count": null,
      "outputs": []
    },
    {
      "cell_type": "code",
      "metadata": {
        "id": "OWUBt7wbZt0s"
      },
      "source": [
        "def FindSimilarUsers(user, business,businesses_data,train_data2_amend): #findings all the pearson correlations to determine similar users\r\n",
        "    similar = []\r\n",
        "    if business not in businesses_data: #business has not been rated yet \r\n",
        "\t    similar.append(0) #similarity with particular user is 0 \r\n",
        "\t    return similar\r\n",
        "    other_users = businesses_data[business]\r\n",
        "    for other in other_users:\r\n",
        "\t    if other != user: \r\n",
        "\t        sim = GetPearsonCorrelation(user,other,train_data2_amend) #similarity of user with other users \r\n",
        "\t    if sim > 0:\r\n",
        "\t        similar.append((user,other,sim))\r\n",
        "    if len(similar) == 0: #no correlated businesses \r\n",
        "\t    similar.append(0)\r\n",
        "\t    return similar\r\n",
        "    return similar"
      ],
      "execution_count": null,
      "outputs": []
    },
    {
      "cell_type": "code",
      "metadata": {
        "id": "HZPQIkEOZtyV"
      },
      "source": [
        "def PredictRatings(user,business,similar_users,train_data2_amend): #predict ratings in the test data \r\n",
        "\tuser_data = train_data2_amend[user] #current user ratings for each business\r\n",
        "\tuser_ratings = [] #gather all ratings\r\n",
        "\tfor k,v in user_data.items():\r\n",
        "\t\tif k == business:\r\n",
        "\t\t\tcontinue\r\n",
        "\t\telse:\r\n",
        "\t\t\tuser_ratings.append(v)\r\n",
        "\taverage_user_ratings = sum(user_ratings)/len(user_ratings)\r\n",
        "\tif similar_users[0] == 0: #pearson correlation was 0 (perhaps no correlated businesses)\r\n",
        "\t\treturn average_user_ratings\r\n",
        "\telse:\r\n",
        "\t\tnumerator = 0 \r\n",
        "\t\tdenominator = 0 \r\n",
        "\t\tfor sim_use in similar_users: \r\n",
        "\t\t\tif sim_use == 0:\r\n",
        "\t\t\t\treturn average_user_ratings\r\n",
        "\t\t\tother_sim_use = sim_use[1]\r\n",
        "\t\t\tsimilarity = sim_use[2]\r\n",
        "\t\t\tsim_use_ratings = []\r\n",
        "\t\t\tsim_use_data = train_data2_amend[other_sim_use]\r\n",
        "\t\t\tfor k,v in sim_use_data.items():\r\n",
        "\t\t\t\tif k == business:\r\n",
        "\t\t\t\t\tbus_rating = v \r\n",
        "\t\t\t\telse:\r\n",
        "\t\t\t\t\tsim_use_ratings.append(v )\r\n",
        "\t\t\taverage_sim_use_ratings = sum(sim_use_ratings)/len(sim_use_ratings) #average similarity \r\n",
        "\t\t\tstep = (bus_rating - average_sim_use_ratings)*similarity\r\n",
        "\t\t\tnumerator = numerator + step \r\n",
        "\t\t\tdenominator = denominator + similarity \r\n",
        "\t\tif denominator == 0:\r\n",
        "\t\t\treturn average_user_ratings\r\n",
        "\t\telse:\r\n",
        "\t\t\tpredict = average_user_ratings + (numerator/denominator)\r\n",
        "\t\t\treturn predict"
      ],
      "execution_count": null,
      "outputs": []
    },
    {
      "cell_type": "code",
      "metadata": {
        "id": "NF0SEvk3a4Kn"
      },
      "source": [
        "def TransformTrain(train,users_dict,business_dict): #for Model Based, transform the users and business IDs to integers based on dictionaries\r\n",
        "    user_id = train[0]\r\n",
        "    business_id = train[1]\r\n",
        "    rating = train[2]\r\n",
        "    return (users_dict[user_id],business_dict[business_id],float(rating))\r\n",
        "\r\n",
        "def TransformTest(test,users_dict,business_dict): #for Model Based, transform the users and business IDs to integers based on dictionaries \r\n",
        "    user_id = test[0]\r\n",
        "    business_id = test[1]\r\n",
        "    rating = test[2]\r\n",
        "    if user_id not in users_dict: #user has not given any rating \r\n",
        "        trans_user = -2 \r\n",
        "    else:\r\n",
        "        trans_user = users_dict[user_id]\r\n",
        "    if business_id not in business_dict: #business has not been rated\r\n",
        "        trans_business  = -2\r\n",
        "    else:\r\n",
        "        trans_business  = business_dict[business_id]\r\n",
        "    return (trans_user,trans_business,float(rating)) \r\n",
        "\r\n",
        "def ReTransform(pred, flipped_users_dict,flipped_businesses_dict): #for output file, convert all integers back to string IDs\r\n",
        "    user_id = pred[0][0]\r\n",
        "    business_id = pred[0][1]\r\n",
        "    return (flipped_users_dict[user_id],flipped_businesses_dict[business_id],pred[1])\r\n",
        "\r\n"
      ],
      "execution_count": null,
      "outputs": []
    },
    {
      "cell_type": "code",
      "metadata": {
        "id": "eAMg7s_oSAM3"
      },
      "source": [
        "#  train_data2_amend - (userid, business_and_ratings_dict) - {userid : business_and_ratings_dict}\r\n",
        "#  test_data - ((userid, busid), rating)\r\n",
        "#  businesses_data - (busid, [users]) - {busid : [users]}\r\n",
        "#  similar_users - (userid, busid, [(userid, other1, sim), 0, (userid, other2, sim)...])\r\n"
      ],
      "execution_count": null,
      "outputs": []
    },
    {
      "cell_type": "markdown",
      "metadata": {
        "id": "H6jRfDLRmbAy"
      },
      "source": [
        "# User based CF "
      ]
    },
    {
      "cell_type": "code",
      "metadata": {
        "id": "FZCJ1H7bmjpy"
      },
      "source": [
        "train_RDD = cf.textFile('/content/drive/MyDrive/yelp_sample/yelp_train.csv')\r\n",
        "test_RDD = cf.textFile('/content/drive/MyDrive/yelp_sample/yelp_val.csv')\r\n",
        "train_header = train_RDD.first()\r\n",
        "test_header = test_RDD.first()\r\n",
        "train_RDD = train_RDD.filter(lambda x:x!= train_header) #remove header of file\r\n",
        "test_RDD = test_RDD.filter(lambda x:x!= test_header)\r\n",
        "train_RDD = train_RDD.map(lambda x:x.split(','))\r\n",
        "test_RDD = test_RDD.map(lambda x:x.split(','))\r\n",
        "train_data = train_RDD.map(lambda x:((x[0], (x[1])), float(x[2])))\r\n",
        "test_data = test_RDD.map(lambda x:((x[0], (x[1])), float(x[2])))"
      ],
      "execution_count": null,
      "outputs": []
    },
    {
      "cell_type": "code",
      "metadata": {
        "id": "DOnuJFbNmjne"
      },
      "source": [
        "businesses_data = train_data.map(lambda x:(x[0][1],x[0][0])).groupByKey().map(lambda x: (x[0],list(x[1]))).collectAsMap()"
      ],
      "execution_count": null,
      "outputs": []
    },
    {
      "cell_type": "code",
      "metadata": {
        "id": "YrnwgcLdmjiv"
      },
      "source": [
        "train_data2 = train_data.map(lambda x: (x[0][0],(x[0][1],x[1]))).groupByKey().map(lambda x : (x[0], list(x[1])))"
      ],
      "execution_count": null,
      "outputs": []
    },
    {
      "cell_type": "code",
      "metadata": {
        "id": "5EFiIW4Jmjgc"
      },
      "source": [
        "train_data2_amend = train_data2.map(lambda x:AddRatingsDict(x)).collectAsMap()"
      ],
      "execution_count": null,
      "outputs": []
    },
    {
      "cell_type": "code",
      "metadata": {
        "id": "GG4jfw_jmjdz"
      },
      "source": [
        "similar_users = test_data.map(lambda x: (x[0][0],x[0][1],FindSimilarUsers(x[0][0],x[0][1],businesses_data,train_data2_amend)))"
      ],
      "execution_count": null,
      "outputs": []
    },
    {
      "cell_type": "code",
      "metadata": {
        "id": "XDlkN47RmjZu"
      },
      "source": [
        "pred = similar_users.map(lambda x: ((x[0], x[1]), PredictRatings(x[0], x[1], x[2],train_data2_amend)))\r\n",
        "pred2 = pred.collect()"
      ],
      "execution_count": null,
      "outputs": []
    },
    {
      "cell_type": "code",
      "metadata": {
        "colab": {
          "base_uri": "https://localhost:8080/"
        },
        "id": "IXSdnaabn4NA",
        "outputId": "50eaa883-b8b1-4a75-8586-5e386924b95c"
      },
      "source": [
        "results = test_data.join(pred) #join test data with predicted results\r\n",
        "rmse_differences = results.map(lambda x:(abs(x[1][0] - x[1][1]))**2).mean() #calculate rmse \r\n",
        "rmse = math.sqrt(rmse_differences)\r\n",
        "print('RMSE: ' + str(rmse))"
      ],
      "execution_count": null,
      "outputs": [
        {
          "output_type": "stream",
          "text": [
            "RMSE: 1.1156465808462488\n"
          ],
          "name": "stdout"
        }
      ]
    },
    {
      "cell_type": "code",
      "metadata": {
        "id": "4cC0n4mpn4Js"
      },
      "source": [
        "with open('/content/drive/MyDrive/yelp_sample/manualresults','w') as outfile:\r\n",
        "\t\toutfile.write('user_id')\r\n",
        "\t\toutfile.write(\",\")\r\n",
        "\t\toutfile.write('business_id')\r\n",
        "\t\toutfile.write(\",\")\r\n",
        "\t\toutfile.write(\"prediction\")\r\n",
        "\t\toutfile.write('\\n')\r\n",
        "\t\tfor p in pred2:\r\n",
        "\t\t\toutfile.write(str(p[0][0]))\r\n",
        "\t\t\toutfile.write(\",\")\r\n",
        "\t\t\toutfile.write(str(p[0][1]))\r\n",
        "\t\t\toutfile.write(\",\")\r\n",
        "\t\t\toutfile.write(str(p[1]))\r\n",
        "\t\t\toutfile.write(\"\\n\")\r\n",
        "outfile.close()"
      ],
      "execution_count": null,
      "outputs": []
    },
    {
      "cell_type": "code",
      "metadata": {
        "id": "mPn5Ugt1oJS2"
      },
      "source": [
        ""
      ],
      "execution_count": null,
      "outputs": []
    },
    {
      "cell_type": "code",
      "metadata": {
        "id": "Up7CNuGUoJP_"
      },
      "source": [
        ""
      ],
      "execution_count": null,
      "outputs": []
    },
    {
      "cell_type": "code",
      "metadata": {
        "id": "f2JXHOtLoJLr"
      },
      "source": [
        ""
      ],
      "execution_count": null,
      "outputs": []
    },
    {
      "cell_type": "markdown",
      "metadata": {
        "id": "6-3xqgIhmU1h"
      },
      "source": [
        "# User based CF using MLlib"
      ]
    },
    {
      "cell_type": "code",
      "metadata": {
        "id": "XilOwceloZJA"
      },
      "source": [
        "train_RDD = cf.textFile('/content/drive/MyDrive/yelp_sample/yelp_train.csv')\r\n",
        "test_RDD = cf.textFile('/content/drive/MyDrive/yelp_sample/yelp_val.csv')\r\n",
        "train_header = train_RDD.first()\r\n",
        "test_header = test_RDD.first()\r\n",
        "train_RDD = train_RDD.filter(lambda x:x!= train_header) #remove header\r\n",
        "test_RDD = test_RDD.filter(lambda x:x!= test_header)\r\n",
        "train_RDD = train_RDD.map(lambda x:x.split(','))\r\n",
        "test_RDD = test_RDD.map(lambda x:x.split(','))\r\n",
        "users = train_RDD.map(lambda x: x[0]).zipWithIndex().collect() #to convert users to integers\r\n",
        "businesses = train_RDD.map(lambda x: x[1]).zipWithIndex().collect() #to convert businesses to integers"
      ],
      "execution_count": null,
      "outputs": []
    },
    {
      "cell_type": "code",
      "metadata": {
        "id": "lAYXUeMtoZE1"
      },
      "source": [
        "users_dict = {}\r\n",
        "for user in users: #build user to integer mapping\r\n",
        "\tif user[0] not in users_dict:\r\n",
        "\t\tusers_dict[user[0]] = user[1]\r\n",
        "\telse:\r\n",
        "\t\tcontinue\r\n",
        "\r\n",
        "businesses_dict = {}\r\n",
        "for business in businesses: #build business to integer mapping\r\n",
        "\tif business[0] not in businesses_dict:\r\n",
        "\t\tbusinesses_dict[business[0]] = business[1]\r\n",
        "\telse:\r\n",
        "\t\tcontinue        "
      ],
      "execution_count": null,
      "outputs": []
    },
    {
      "cell_type": "code",
      "metadata": {
        "id": "Od3OKi-yoY_9"
      },
      "source": [
        "transformed_train_RDD = train_RDD.map(lambda x: (TransformTrain(x,users_dict, businesses_dict))) #transform strings to integers\r\n",
        "transformed_test_RDD = test_RDD.map(lambda x: (TransformTest(x,users_dict,businesses_dict)))\r\n",
        "train_data = transformed_train_RDD.map(lambda x: Rating(x[0],x[1],float(x[2])))\r\n",
        "test_data = transformed_test_RDD.map(lambda x: (x[0],x[1]))"
      ],
      "execution_count": null,
      "outputs": []
    },
    {
      "cell_type": "code",
      "metadata": {
        "id": "9_JIjOjxoYze"
      },
      "source": [
        "rank = 10 \r\n",
        "iterations = 10 \r\n",
        "lambda_score = 0.1\r\n",
        "model = ALS.train(train_data, rank, iterations, lambda_score) #create model\r\n",
        "predictions = model.predictAll(test_data).map(lambda x: ((x[0],x[1]),x[2]))"
      ],
      "execution_count": null,
      "outputs": []
    },
    {
      "cell_type": "code",
      "metadata": {
        "id": "tJWTYw80oYwZ"
      },
      "source": [
        "transformed_test_RDD2 = transformed_test_RDD.map(lambda x: ((x[0],x[1]),x[2])) #transform test data \r\n",
        "true_and_pred = transformed_test_RDD2.join(predictions)"
      ],
      "execution_count": null,
      "outputs": []
    },
    {
      "cell_type": "code",
      "metadata": {
        "id": "BvxE464ioYtK"
      },
      "source": [
        "RMSE_int = true_and_pred.map(lambda x: (abs(x[1][0] - x[1][1]))**2).mean() #calculate RMSE\r\n",
        "RMSE = math.sqrt(RMSE_int)"
      ],
      "execution_count": null,
      "outputs": []
    },
    {
      "cell_type": "code",
      "metadata": {
        "colab": {
          "base_uri": "https://localhost:8080/"
        },
        "id": "g3819vBmoYqX",
        "outputId": "a23eacc3-561b-4214-8797-00940c093382"
      },
      "source": [
        "flipped_users_dict = {y:x for x,y in users_dict.items()} #to convert integers to string for output file\r\n",
        "flipped_businesses_dict = {y:x for x,y in businesses_dict.items()}\r\n",
        "transformed_predictions = predictions.map(lambda x: (ReTransform(x,flipped_users_dict,flipped_businesses_dict)))\r\n",
        "pred2 = transformed_predictions.collect()\r\n",
        "\r\n",
        "print('RMSE: ' + str(RMSE))"
      ],
      "execution_count": null,
      "outputs": [
        {
          "output_type": "stream",
          "text": [
            "RMSE: 1.1541982493347085\n"
          ],
          "name": "stdout"
        }
      ]
    },
    {
      "cell_type": "code",
      "metadata": {
        "id": "c2jiMqwDoYnu"
      },
      "source": [
        "with open('/content/drive/MyDrive/yelp_sample/mllib_results','w') as outfile:\r\n",
        "\toutfile.write('user_id')\r\n",
        "\toutfile.write(\",\")\r\n",
        "\toutfile.write('business_id')\r\n",
        "\toutfile.write(\",\")\r\n",
        "\toutfile.write(\"prediction\")\r\n",
        "\toutfile.write('\\n')\r\n",
        "\tfor p in pred2:\r\n",
        "\t\toutfile.write(str(p[0]))\r\n",
        "\t\toutfile.write(\",\")\r\n",
        "\t\toutfile.write(str(p[1]))\r\n",
        "\t\toutfile.write(\",\")\r\n",
        "\t\toutfile.write(str(p[2]))\r\n",
        "\t\toutfile.write(\"\\n\")\r\n",
        "outfile.close()"
      ],
      "execution_count": null,
      "outputs": []
    },
    {
      "cell_type": "code",
      "metadata": {
        "id": "z9R0ysOooYiJ"
      },
      "source": [
        ""
      ],
      "execution_count": null,
      "outputs": []
    },
    {
      "cell_type": "code",
      "metadata": {
        "id": "T1riqgyIbLQE"
      },
      "source": [
        ""
      ],
      "execution_count": null,
      "outputs": []
    },
    {
      "cell_type": "code",
      "metadata": {
        "id": "49mtDjCabLNn"
      },
      "source": [
        ""
      ],
      "execution_count": null,
      "outputs": []
    },
    {
      "cell_type": "code",
      "metadata": {
        "id": "ZXw7l53ibLLB"
      },
      "source": [
        ""
      ],
      "execution_count": null,
      "outputs": []
    }
  ]
}