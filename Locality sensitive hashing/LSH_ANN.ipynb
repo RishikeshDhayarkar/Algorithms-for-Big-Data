{
  "nbformat": 4,
  "nbformat_minor": 0,
  "metadata": {
    "colab": {
      "name": "LSH_ANN.ipynb",
      "provenance": [],
      "collapsed_sections": []
    },
    "kernelspec": {
      "name": "python3",
      "display_name": "Python 3"
    }
  },
  "cells": [
    {
      "cell_type": "code",
      "metadata": {
        "id": "nVaec7fhuqFU"
      },
      "source": [
        "# Authors: Jessica Su, Wanzi Zhou, Pratyaksh Sharma, Dylan Liu, Ansh Shukla\r\n",
        "\r\n",
        "import numpy as np\r\n",
        "import random\r\n",
        "import time\r\n",
        "import pdb, os\r\n",
        "import unittest\r\n",
        "from PIL import Image\r\n",
        "import matplotlib.pyplot as pl\r\n",
        "pl.close('all')\r\n",
        "\r\n",
        "# Finds the L1 distance between two vectors\r\n",
        "# u and v are 1-dimensional np.array objects\r\n",
        "def l1(u, v):\r\n",
        "    return np.linalg.norm(u - v, ord=1)\r\n",
        "\r\n",
        "# Loads the data into a np array, where each row corresponds to\r\n",
        "# an image patch -- this step is sort of slow.\r\n",
        "# Each row in the data is an image, and there are 400 columns.\r\n",
        "def load_data(filename):\r\n",
        "    return np.genfromtxt(filename, delimiter=',')\r\n",
        "\r\n",
        "# Creates a hash function from a list of dimensions and thresholds.\r\n",
        "def create_function(dimensions, thresholds):\r\n",
        "    def f(v):\r\n",
        "        boolarray = [v[dimensions[i]] >= thresholds[i] for i in range(len(dimensions))]\r\n",
        "        return \"\".join(map(str, map(int, boolarray)))\r\n",
        "    return f"
      ],
      "execution_count": null,
      "outputs": []
    },
    {
      "cell_type": "code",
      "metadata": {
        "id": "PBaJBEnKuuTw"
      },
      "source": [
        "# Creates the LSH functions (functions that compute L K-bit hash keys).\r\n",
        "# Each function selects k dimensions (i.e. column indices of the image matrix)\r\n",
        "# at random, and then chooses a random threshold for each dimension, between 0 and\r\n",
        "# 255.  For any image, if its value on a given dimension is greater than or equal to\r\n",
        "# the randomly chosen threshold, we set that bit to 1.  Each hash function returns\r\n",
        "# a length-k bit string of the form \"0101010001101001...\", and the L hash functions\r\n",
        "# will produce L such bit strings for each image.\r\n",
        "def create_functions(k, L, num_dimensions=400, min_threshold=0, max_threshold=255):\r\n",
        "    functions = []\r\n",
        "    for i in range(L):\r\n",
        "        dimensions = np.random.randint(low = 0,\r\n",
        "                                   high = num_dimensions,\r\n",
        "                                   size = k)\r\n",
        "        thresholds = np.random.randint(low = min_threshold,\r\n",
        "                                   high = max_threshold + 1,\r\n",
        "                                   size = k)\r\n",
        "\r\n",
        "        functions.append(create_function(dimensions, thresholds))\r\n",
        "    return functions"
      ],
      "execution_count": null,
      "outputs": []
    },
    {
      "cell_type": "code",
      "metadata": {
        "id": "5bOmwVdnuuRL"
      },
      "source": [
        "# Hashes an individual vector (i.e. image).  This produces an array with L\r\n",
        "# entries, where each entry is a string of k bits.\r\n",
        "def hash_vector(functions, v):\r\n",
        "    return np.array([f(v) for f in functions])"
      ],
      "execution_count": null,
      "outputs": []
    },
    {
      "cell_type": "code",
      "metadata": {
        "id": "BrT_J91QuuPR"
      },
      "source": [
        "# Hashes the data in A, where each row is a datapoint, using the L\r\n",
        "# functions in \"functions.\"\r\n",
        "def hash_data(functions, A):\r\n",
        "    return np.array(list(map(lambda v: hash_vector(functions, v), A)))"
      ],
      "execution_count": null,
      "outputs": []
    },
    {
      "cell_type": "code",
      "metadata": {
        "id": "4FCAbp60uuMV"
      },
      "source": [
        "# Retrieve all of the points that hash to one of the same buckets\r\n",
        "# as the query point.  Do not do any random sampling (unlike what the first\r\n",
        "# part of this problem prescribes).\r\n",
        "# Don't retrieve a point if it is the same point as the query point.\r\n",
        "def get_candidates(hashed_A, hashed_point, query_index):\r\n",
        "    return filter(lambda i: i != query_index and \\\r\n",
        "        any(hashed_point == hashed_A[i]), range(len(hashed_A)))"
      ],
      "execution_count": null,
      "outputs": []
    },
    {
      "cell_type": "code",
      "metadata": {
        "id": "-b4oeJpfvAyj"
      },
      "source": [
        "# Sets up the LSH.  You should try to call this function as few times as\r\n",
        "# possible, since it is expensive.\r\n",
        "# A: The dataset.\r\n",
        "# Return the LSH functions and hashed data structure.\r\n",
        "def lsh_setup(A, k = 24, L = 10):\r\n",
        "    functions = create_functions(k = k, L = L)\r\n",
        "    hashed_A = hash_data(functions, A)\r\n",
        "    return (functions, hashed_A)"
      ],
      "execution_count": null,
      "outputs": []
    },
    {
      "cell_type": "code",
      "metadata": {
        "id": "J_mp83n3vAwB"
      },
      "source": [
        "# Run the entire LSH algorithm\r\n",
        "def lsh_search(A, hashed_A, functions, query_index, num_neighbors = 10):\r\n",
        "    hashed_point = hash_vector(functions, A[query_index, :])\r\n",
        "    candidate_row_nums = get_candidates(hashed_A, hashed_point, query_index)\r\n",
        "\r\n",
        "    distances = map(lambda r: (r, l1(A[r], A[query_index])), candidate_row_nums)\r\n",
        "    best_neighbors = sorted(distances, key=lambda t: t[1])[:num_neighbors]\r\n",
        "    return list(zip(*best_neighbors))\r\n",
        "#    return [t[0] for t in best_neighbors]"
      ],
      "execution_count": null,
      "outputs": []
    },
    {
      "cell_type": "code",
      "metadata": {
        "id": "nHDR9VWDvAtw"
      },
      "source": [
        "# Plots images at the specified rows and saves them each to files.\r\n",
        "def plot(A, row_nums, base_filename):\r\n",
        "    for i, row_num in enumerate(row_nums):\r\n",
        "        patch = np.reshape(A[row_num, :], [20, 20]).T\r\n",
        "        im = Image.fromarray(patch)\r\n",
        "        if im.mode != 'RGB':\r\n",
        "            im = im.convert('RGB')\r\n",
        "#        im.save(base_filename + \"-\" + str(row_num) + \".png\")\r\n",
        "        im.save('%s_%d_%05d.png' % (base_filename, i, row_num))"
      ],
      "execution_count": null,
      "outputs": []
    },
    {
      "cell_type": "code",
      "metadata": {
        "id": "t2uUJJ37vArg"
      },
      "source": [
        "# Finds the nearest neighbors to a given vector, using linear search.\r\n",
        "def linear_search(A, query_indices, num_neighbors):\r\n",
        "    t0 = time.time()\r\n",
        "    errors = np.ones((len(query_indices), num_neighbors)) * np.inf\r\n",
        "    indices = np.zeros((len(query_indices), num_neighbors), dtype=np.int)\r\n",
        "    for icand in range(A.shape[0]):\r\n",
        "        candImg = A[icand]\r\n",
        "        for iquery in range(len(query_indices)):\r\n",
        "            queryIdx = query_indices[iquery]\r\n",
        "            if queryIdx == icand:\r\n",
        "                continue\r\n",
        "\r\n",
        "            queryImg = A[queryIdx]\r\n",
        "            dist = l1(queryImg, candImg)\r\n",
        "            for ineig in range(num_neighbors):\r\n",
        "                if dist < errors[iquery, ineig]:\r\n",
        "                    break\r\n",
        "            else:\r\n",
        "                continue\r\n",
        "            errors[iquery, ineig] = dist\r\n",
        "            indices[iquery, ineig] = icand\r\n",
        "\r\n",
        "    print('linear: avg time per query = %f' % ((time.time() - t0) / len(query_indices)))\r\n",
        "    return indices, errors"
      ],
      "execution_count": null,
      "outputs": []
    },
    {
      "cell_type": "code",
      "metadata": {
        "id": "lIQqxFZQvLL3"
      },
      "source": [
        "def error(lsh_err, lin_err):\r\n",
        "    return np.mean(np.sum(lsh_err[:, :3], axis=1) / np.sum(lin_err[:, :3], axis=1))\r\n",
        "\r\n",
        "def lsh_wrapper(A, k, L, query_indices, num_neighbors):\r\n",
        "    np.random.seed(0)\r\n",
        "\r\n",
        "    t0 = time.time()\r\n",
        "    functions, hashed_A = lsh_setup(A, k, L)\r\n",
        "    print('k %d L %d: hash time %f' % (k, L, time.time() - t0))\r\n",
        "\r\n",
        "    t1 = time.time()\r\n",
        "    lsh_idx = []\r\n",
        "    lsh_err = []\r\n",
        "    for queryIdx in query_indices:\r\n",
        "        while True:\r\n",
        "            idx, err = lsh_search(A, hashed_A, functions, queryIdx, num_neighbors)\r\n",
        "            if len(err) == num_neighbors:\r\n",
        "                break\r\n",
        "            print('not enough neigs chosen')\r\n",
        "        lsh_idx.append(idx)\r\n",
        "        lsh_err.append(err)\r\n",
        "    lsh_idx = np.array(lsh_idx)\r\n",
        "    lsh_err = np.array(lsh_err)\r\n",
        "\r\n",
        "    t2 = time.time()\r\n",
        "    print('k %d L %d: avg time per query (no   initial hash) %f' % (k, L, (t2 - t1) / len(query_indices)))\r\n",
        "    print('k %d L %d: avg time per query (plus initial hash) %f' % (k, L, (t2 - t0) / len(query_indices)))\r\n",
        "    return lsh_idx, lsh_err"
      ],
      "execution_count": null,
      "outputs": []
    },
    {
      "cell_type": "code",
      "metadata": {
        "id": "-xeaoulmvLKO"
      },
      "source": [
        "def problem4_run(A, query_indices, num_neighbors, resultsDataPath):\r\n",
        "    lin_idx, lin_err = linear_search(A, query_indices, num_neighbors)\r\n",
        "\r\n",
        "    # changing L\r\n",
        "    run1_k = [24] * 6\r\n",
        "    run1_L = [20, 18, 16, 14, 12, 10]\r\n",
        "    run1_i = []\r\n",
        "    run1_e = []\r\n",
        "    for k, L in zip(run1_k, run1_L):\r\n",
        "        lsh_idx, lsh_err = lsh_wrapper(A, k, L, query_indices, num_neighbors)\r\n",
        "        run1_i.append(lsh_idx)\r\n",
        "        run1_e.append(lsh_err)\r\n",
        "\r\n",
        "    # changing k\r\n",
        "    run2_k = [16, 18, 20, 22]\r\n",
        "    run2_L = [10] * 4\r\n",
        "    run2_i = []\r\n",
        "    run2_e = []\r\n",
        "    for k, L in zip(run2_k, run2_L):\r\n",
        "        lsh_idx, lsh_err = lsh_wrapper(A, k, L, query_indices, num_neighbors)\r\n",
        "        run2_i.append(lsh_idx)\r\n",
        "        run2_e.append(lsh_err)\r\n",
        "    run2_k.append(run1_k[-1])\r\n",
        "    run2_L.append(run1_L[-1])\r\n",
        "    run2_i.append(run1_i[-1]) # ref is fine\r\n",
        "    run2_e.append(run1_e[-1])\r\n",
        "\r\n",
        "    np.savez(resultsDataPath,\r\n",
        "             lin_idx=lin_idx, lin_err=lin_err,\r\n",
        "             run1_k=run1_k, run1_L=run1_L, run1_i=run1_i, run1_e=run1_e,\r\n",
        "             run2_k=run2_k, run2_L=run2_L, run2_i=run2_i, run2_e=run2_e)"
      ],
      "execution_count": null,
      "outputs": []
    },
    {
      "cell_type": "code",
      "metadata": {
        "colab": {
          "base_uri": "https://localhost:8080/"
        },
        "id": "DUNv1dhKAB7H",
        "outputId": "012a4ea1-b8b7-407c-eeca-089c58660f6b"
      },
      "source": [
        "!pwd"
      ],
      "execution_count": null,
      "outputs": [
        {
          "output_type": "stream",
          "text": [
            "/content\n"
          ],
          "name": "stdout"
        }
      ]
    },
    {
      "cell_type": "code",
      "metadata": {
        "id": "ndOSkZuAAFdm"
      },
      "source": [
        "my_path = '/content/drive/MyDrive/hw1/q4'"
      ],
      "execution_count": null,
      "outputs": []
    },
    {
      "cell_type": "code",
      "metadata": {
        "id": "vZgJ4ptovLGh"
      },
      "source": [
        "def problem4():\r\n",
        "    # data\r\n",
        "    # npzDataPath = './data/patches_uint8.npz'\r\n",
        "    npzDataPath = my_path + '/data/patches_uint8.npz'\r\n",
        "    if not os.path.isfile(npzDataPath):\r\n",
        "        t0 = time.time()\r\n",
        "        A = np.genfromtxt(my_path + '/data/patches.csv', delimiter=',')\r\n",
        "        np.savez(npzDataPath, A_uint8=np.uint8(A))\r\n",
        "        print('loading matrix used %f seconds' % (time.time() - t0))\r\n",
        "\r\n",
        "    print('npz matrix exists. loading..')\r\n",
        "    f = np.load(npzDataPath)\r\n",
        "    A = np.float64(f['A_uint8'])\r\n",
        "\r\n",
        "    query_indices = [99, 199, 299, 399, 499, 599, 699, 799, 899, 999]\r\n",
        "    num_neighbors = 10\r\n",
        "\r\n",
        "    # run\r\n",
        "    resultsDataPath = my_path + '/data/results.npz'\r\n",
        "    if not os.path.isfile(resultsDataPath):\r\n",
        "        problem4_run(A, query_indices, num_neighbors, resultsDataPath)\r\n",
        "\r\n",
        "    print('saved results exist. loading..')\r\n",
        "    f = np.load(resultsDataPath)\r\n",
        "\r\n",
        "    # plot\r\n",
        "    lin_idx = f['lin_idx']\r\n",
        "    lin_err = f['lin_err']\r\n",
        "    run1_k = f['run1_k']\r\n",
        "    run1_L = f['run1_L']\r\n",
        "    run1_i = f['run1_i']\r\n",
        "    run1_e = f['run1_e']\r\n",
        "    run2_k = f['run2_k']\r\n",
        "    run2_L = f['run2_L']\r\n",
        "#    run2_i = f['run2_i']\r\n",
        "    run2_e = f['run2_e']\r\n",
        "\r\n",
        "    run1_error = []\r\n",
        "    run2_error = []\r\n",
        "    for i in range(run1_L.shape[0]):\r\n",
        "        run1_error.append(error(run1_e[i], lin_err))\r\n",
        "    for i in range(run2_k.shape[0]):\r\n",
        "        run2_error.append(error(run2_e[i], lin_err))\r\n",
        "\r\n",
        "    fig, ax = pl.subplots(1, 2, sharey=True)\r\n",
        "    ax[0].plot(run1_L, run1_error)\r\n",
        "    ax[1].plot(run2_k, run2_error)\r\n",
        "    ax[0].set_xlabel('L')\r\n",
        "    ax[1].set_xlabel('k')\r\n",
        "    ax[0].legend(['k = %d' % run1_k[0]])\r\n",
        "    ax[1].legend(['L = %d' % run2_L[0]])\r\n",
        "\r\n",
        "    iquery = 0\r\n",
        "    plot(A, lin_idx[iquery]        , my_path + '/data/lin')\r\n",
        "    plot(A, run1_i[-1][iquery]     , my_path + '/data/lsh')\r\n",
        "    plot(A, [query_indices[iquery]], my_path + '/data/qry')"
      ],
      "execution_count": null,
      "outputs": []
    },
    {
      "cell_type": "code",
      "metadata": {
        "id": "Uz0NjZZTvLD6"
      },
      "source": [
        "#### TESTS #####\r\n",
        "\r\n",
        "class TestLSH(unittest.TestCase):\r\n",
        "    def test_l1(self):\r\n",
        "        u = np.array([1, 2, 3, 4])\r\n",
        "        v = np.array([2, 3, 2, 3])\r\n",
        "        self.assertEqual(l1(u, v), 4)\r\n",
        "\r\n",
        "    def test_hash_data(self):\r\n",
        "        f1 = lambda v: sum(v)\r\n",
        "        f2 = lambda v: sum([x * x for x in v])\r\n",
        "        A = np.array([[1, 2, 3], [4, 5, 6]])\r\n",
        "        self.assertEqual(f1(A[0,:]), 6)\r\n",
        "        self.assertEqual(f2(A[0,:]), 14)\r\n",
        "\r\n",
        "        functions = [f1, f2]\r\n",
        "        self.assertTrue(np.array_equal(hash_vector(functions, A[0, :]), np.array([6, 14])))\r\n",
        "        self.assertTrue(np.array_equal(hash_data(functions, A), np.array([[6, 14], [15, 77]])))"
      ],
      "execution_count": null,
      "outputs": []
    },
    {
      "cell_type": "code",
      "metadata": {
        "colab": {
          "base_uri": "https://localhost:8080/",
          "height": 850
        },
        "id": "SnQNU4yCvdHG",
        "outputId": "1d41a0bd-7a45-4672-a6df-8594d0b5ed00"
      },
      "source": [
        "if __name__ == '__main__':\r\n",
        "#    unittest.main()\r\n",
        "    problem4()"
      ],
      "execution_count": null,
      "outputs": [
        {
          "output_type": "stream",
          "text": [
            "loading matrix used 38.926989 seconds\n",
            "npz matrix exists. loading..\n",
            "linear: avg time per query = 0.598007\n",
            "k 24 L 20: hash time 30.089733\n",
            "k 24 L 20: avg time per query (no   initial hash) 0.170660\n",
            "k 24 L 20: avg time per query (plus initial hash) 3.179649\n",
            "k 24 L 18: hash time 26.769182\n",
            "k 24 L 18: avg time per query (no   initial hash) 0.159495\n",
            "k 24 L 18: avg time per query (plus initial hash) 2.836427\n",
            "k 24 L 16: hash time 24.331277\n",
            "k 24 L 16: avg time per query (no   initial hash) 0.155877\n",
            "k 24 L 16: avg time per query (plus initial hash) 2.589019\n",
            "k 24 L 14: hash time 21.067004\n",
            "k 24 L 14: avg time per query (no   initial hash) 0.148136\n",
            "k 24 L 14: avg time per query (plus initial hash) 2.254852\n",
            "k 24 L 12: hash time 17.986737\n",
            "k 24 L 12: avg time per query (no   initial hash) 0.143049\n",
            "k 24 L 12: avg time per query (plus initial hash) 1.941737\n",
            "k 24 L 10: hash time 14.769792\n",
            "k 24 L 10: avg time per query (no   initial hash) 0.135681\n",
            "k 24 L 10: avg time per query (plus initial hash) 1.612674\n",
            "k 16 L 10: hash time 10.199973\n",
            "k 16 L 10: avg time per query (no   initial hash) 0.164705\n",
            "k 16 L 10: avg time per query (plus initial hash) 1.184715\n",
            "k 18 L 10: hash time 11.564075\n",
            "k 18 L 10: avg time per query (no   initial hash) 0.150763\n",
            "k 18 L 10: avg time per query (plus initial hash) 1.307186\n",
            "k 20 L 10: hash time 12.619210\n",
            "k 20 L 10: avg time per query (no   initial hash) 0.136144\n",
            "k 20 L 10: avg time per query (plus initial hash) 1.398079\n",
            "k 22 L 10: hash time 13.709661\n",
            "k 22 L 10: avg time per query (no   initial hash) 0.141076\n",
            "k 22 L 10: avg time per query (plus initial hash) 1.512056\n",
            "saved results exist. loading..\n"
          ],
          "name": "stdout"
        },
        {
          "output_type": "display_data",
          "data": {
            "image/png": "[encoded data removed]",
            "text/plain": [
              "<Figure size 432x288 with 2 Axes>"
            ]
          },
          "metadata": {
            "tags": [],
            "needs_background": "light"
          }
        }
      ]
    },
    {
      "cell_type": "code",
      "metadata": {
        "id": "2cxIA8uSvdEO"
      },
      "source": [
        ""
      ],
      "execution_count": null,
      "outputs": []
    }
  ]
}