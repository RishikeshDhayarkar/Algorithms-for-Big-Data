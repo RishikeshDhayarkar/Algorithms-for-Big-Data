{
  "nbformat": 4,
  "nbformat_minor": 0,
  "metadata": {
    "colab": {
      "name": "LSH_yelp.ipynb",
      "provenance": [],
      "collapsed_sections": []
    },
    "kernelspec": {
      "name": "python3",
      "display_name": "Python 3"
    }
  },
  "cells": [
    {
      "cell_type": "code",
      "metadata": {
        "id": "aCTOTaE8fKnr"
      },
      "source": [
        "!pip install pyspark\r\n",
        "!pip install -U -q PyDrive\r\n",
        "!apt install openjdk-8-jdk-headless -qq\r\n",
        "import os\r\n",
        "os.environ[\"JAVA_HOME\"] = \"/usr/lib/jvm/java-8-openjdk-amd64\""
      ],
      "execution_count": null,
      "outputs": []
    },
    {
      "cell_type": "code",
      "metadata": {
        "id": "zMb1UFAhfOwH"
      },
      "source": [
        "from pyspark import SparkContext\r\n",
        "from pyspark.mllib.recommendation import ALS, Rating\r\n",
        "import math \r\n",
        "import datetime\r\n",
        "import sys\r\n",
        "import random\r\n",
        "import itertools as it"
      ],
      "execution_count": null,
      "outputs": []
    },
    {
      "cell_type": "code",
      "metadata": {
        "id": "fijE28zkiFId"
      },
      "source": [
        "lsh = SparkContext.getOrCreate()"
      ],
      "execution_count": null,
      "outputs": []
    },
    {
      "cell_type": "markdown",
      "metadata": {
        "id": "-zKPt9gIIyiz"
      },
      "source": [
        "Matching companies to all users"
      ]
    },
    {
      "cell_type": "code",
      "metadata": {
        "id": "jl46QBE6fOtl"
      },
      "source": [
        "def UsertoRowMapping(company, dictionary_users): \r\n",
        "    r_users = company[1]\r\n",
        "    company_id = company[0]\r\n",
        "    new_list = []\r\n",
        "\r\n",
        "    for user in r_users:\r\n",
        "        new_list.append(dictionary_users[user])\r\n",
        "        \r\n",
        "    return (company_id,new_list)"
      ],
      "execution_count": null,
      "outputs": []
    },
    {
      "cell_type": "markdown",
      "metadata": {
        "id": "oOTn3W_HIteq"
      },
      "source": [
        "Function to collect parameters of all hash functions"
      ]
    },
    {
      "cell_type": "code",
      "metadata": {
        "id": "VMMvdaq8fOrE"
      },
      "source": [
        "def HashParameters(no_of_hash_fns, max_row_number):\r\n",
        "    all_parameters = []\r\n",
        "    count = 0 \r\n",
        "    while count < no_of_hash_fns: \r\n",
        "        a = random.randint(0,1000)\r\n",
        "        b = random.randint(0,1000)\r\n",
        "        all_parameters.append([a,b,max_row_number])\r\n",
        "        count+=1\r\n",
        "    return all_parameters"
      ],
      "execution_count": null,
      "outputs": []
    },
    {
      "cell_type": "markdown",
      "metadata": {
        "id": "_24bINGzI-yn"
      },
      "source": [
        "Generate hash embeddings using the parameters generated form the above functions"
      ]
    },
    {
      "cell_type": "code",
      "metadata": {
        "id": "Q2VBMvr8fOoa"
      },
      "source": [
        "def GenerateHashFunctions(company, hash_params, max_row_number): #apply hash parameters in hash functions and then on user_ids\r\n",
        "    row_values = []\r\n",
        "    for parameters in hash_params:\r\n",
        "        a = parameters[0]\r\n",
        "        b = parameters[1]\r\n",
        "        c = parameters[2]\r\n",
        "        company_id = company[0]\r\n",
        "        initial_row_numbers = company[1]\r\n",
        "        new_row_numbers = []\r\n",
        "        for y in initial_row_numbers:\r\n",
        "            new_number = ((a*y) + b) % max_row_number\r\n",
        "            new_row_numbers.append(new_number)\r\n",
        "        min_value = min(new_row_numbers)\r\n",
        "        row_values.append(min_value)\r\n",
        "    return (company[0],row_values)"
      ],
      "execution_count": null,
      "outputs": []
    },
    {
      "cell_type": "code",
      "metadata": {
        "id": "Wilp7Ag1fOmB"
      },
      "source": [
        "def CreateBands(business,rows,n): \r\n",
        "    users = business[1]\r\n",
        "    business_id = business[0]\r\n",
        "    band_size = []\r\n",
        "    p = 0 \r\n",
        "    while p <= (n - 1):\r\n",
        "        a = users[p:p+rows]\r\n",
        "        band_size.append(a)\r\n",
        "        p = p + rows\r\n",
        "    return (business_id,users, band_size)"
      ],
      "execution_count": null,
      "outputs": []
    },
    {
      "cell_type": "code",
      "metadata": {
        "id": "_zWhp7tPfOdS"
      },
      "source": [
        "def BandManipulation(business): \r\n",
        "\tusers = tuple(business[2])\r\n",
        "\tbusiness_sig = business[1]\r\n",
        "\tbusiness_id = business[0]\r\n",
        "\treturn (users,(business_id,business_sig))"
      ],
      "execution_count": null,
      "outputs": []
    },
    {
      "cell_type": "code",
      "metadata": {
        "id": "WjlIllHjgMxR"
      },
      "source": [
        "def RemoveSigMat(candidate): \r\n",
        "    cands = []\r\n",
        "    cand = candidate[1]\r\n",
        "    for c in cand: \r\n",
        "        business_id = c[0]\r\n",
        "        cands.append(business_id)\r\n",
        "    return cands\r\n"
      ],
      "execution_count": null,
      "outputs": []
    },
    {
      "cell_type": "code",
      "metadata": {
        "id": "oTOQ2CJngMui"
      },
      "source": [
        "def Transform(band,business_dict): \r\n",
        "    if len(band) == 2:\r\n",
        "        pair1 = band[0]\r\n",
        "        pair1_data = business_dict[pair1]\r\n",
        "        pair2 = band[1]\r\n",
        "        pair2_data = business_dict[pair2]\r\n",
        "        return ((pair1,pair1_data),(pair2,pair2_data))\r\n",
        "    else:\r\n",
        "        combos = list(it.combinations(band,2))\r\n",
        "        combos_list = []\r\n",
        "        for combo in combos:\r\n",
        "            pair1 = combo[0]\r\n",
        "            pair1_data = business_dict[pair1]\r\n",
        "            pair2 = combo[1]\r\n",
        "            pair2_data = business_dict[pair2]\r\n",
        "            combos_list.append(((pair1,pair1_data),(pair2,pair2_data)))\r\n",
        "        return combos_list"
      ],
      "execution_count": null,
      "outputs": []
    },
    {
      "cell_type": "code",
      "metadata": {
        "id": "O7A7-GB7Csw7"
      },
      "source": [
        "train_RDD = lsh.textFile('/content/drive/MyDrive/yelp_sample/yelp_train.csv')\r\n",
        "header = train_RDD.first()\r\n",
        "train_RDD = train_RDD.filter(lambda x: x!= header) #remove header\r\n",
        "train_initial = train_RDD.map(lambda x:x.split(','))\r\n",
        "user_as_key = train_initial.map(lambda x:(x[0],x[1]))\r\n",
        "business_as_key = train_initial.map(lambda x:(x[1],x[0]))"
      ],
      "execution_count": null,
      "outputs": []
    },
    {
      "cell_type": "code",
      "metadata": {
        "id": "7nrhl6wtDrdA"
      },
      "source": [
        "user_combos = user_as_key.groupByKey()\r\n",
        "user_combos = user_combos.collect()"
      ],
      "execution_count": null,
      "outputs": []
    },
    {
      "cell_type": "code",
      "metadata": {
        "colab": {
          "base_uri": "https://localhost:8080/"
        },
        "id": "Mag6ncy0EBvT",
        "outputId": "fd28e7a9-c560-4aa8-cb2f-f6869010a737"
      },
      "source": [
        "print(len(user_combos))\r\n",
        "user_combos[:3]"
      ],
      "execution_count": null,
      "outputs": [
        {
          "output_type": "stream",
          "text": [
            "11270\n"
          ],
          "name": "stdout"
        },
        {
          "output_type": "execute_result",
          "data": {
            "text/plain": [
              "[('o0p-iTC5yTBV5Yab_7es4g',\n",
              "  <pyspark.resultiterable.ResultIterable at 0x7f7814f00c18>),\n",
              " ('-qj9ouN0bzMXz1vfEslG-A',\n",
              "  <pyspark.resultiterable.ResultIterable at 0x7f7814f611d0>),\n",
              " ('4bQqil4770ey8GfhBgEGuw',\n",
              "  <pyspark.resultiterable.ResultIterable at 0x7f7814f61588>)]"
            ]
          },
          "metadata": {
            "tags": []
          },
          "execution_count": 13
        }
      ]
    },
    {
      "cell_type": "code",
      "metadata": {
        "colab": {
          "base_uri": "https://localhost:8080/"
        },
        "id": "pgvFsiYYEXhP",
        "outputId": "3001bbe8-43f7-4df4-93ac-62c496decd70"
      },
      "source": [
        "user_combos = user_as_key.groupByKey().map(lambda x : (x[0], list(x[1])))\r\n",
        "user_combos.take(1)"
      ],
      "execution_count": null,
      "outputs": [
        {
          "output_type": "execute_result",
          "data": {
            "text/plain": [
              "[('o0p-iTC5yTBV5Yab_7es4g',\n",
              "  ['iAuOpYDfOTuzQ6OPpEiGwA',\n",
              "   'e_Nf4zAA1KZq80aoy3v8Ng',\n",
              "   'qFZ7ReYNpjHuvSxOqXqHMg',\n",
              "   'LwNZ1AR4_5iukgQYuhmTOg',\n",
              "   'ZWcXoh_RO7rT2DdcyOzyfQ',\n",
              "   'BORPULADzZV6_LJZzcsywQ',\n",
              "   '3cHL1r5w2oLYH-veijtweA',\n",
              "   'XXW_OFaYQkkGOGniujZFHg',\n",
              "   'G0EJjh-dqJBmSEhQRog-hQ',\n",
              "   'lfXfxBms5z1nwzkxxLFBWg',\n",
              "   'i60v66vwf1A13YqcIqGD_A',\n",
              "   'A37JfEzlKQygyzA-5p2dWw',\n",
              "   'nVAJZ6BJ9PPlxDXn976R6A',\n",
              "   'v3AS5LGeV2Si4nOHZ7lgxQ',\n",
              "   'FaHADZARwnY4yvlvpnsfGA',\n",
              "   'fQt9QVAZM9PM0wFDdROvWw',\n",
              "   'pzUm_jLzVa9JAf4sC6tPLg',\n",
              "   'mLjDh0vQYBCY6g9T1HczVw',\n",
              "   'meXjqyhTNLFmknY39y2sMg',\n",
              "   'ZwKUXfZguhBD1zsfb0RLPg',\n",
              "   'SLJX2dksO_BeNMQUe3Nr8Q'])]"
            ]
          },
          "metadata": {
            "tags": []
          },
          "execution_count": 14
        }
      ]
    },
    {
      "cell_type": "code",
      "metadata": {
        "colab": {
          "base_uri": "https://localhost:8080/"
        },
        "id": "1BTjWY7TFSKk",
        "outputId": "2b1fa3cf-5921-400c-9993-85c90a52ea5c"
      },
      "source": [
        "user_combos = user_combos.zipWithIndex()\r\n",
        "user_combos.take(1)"
      ],
      "execution_count": null,
      "outputs": [
        {
          "output_type": "execute_result",
          "data": {
            "text/plain": [
              "[(('o0p-iTC5yTBV5Yab_7es4g',\n",
              "   ['iAuOpYDfOTuzQ6OPpEiGwA',\n",
              "    'e_Nf4zAA1KZq80aoy3v8Ng',\n",
              "    'qFZ7ReYNpjHuvSxOqXqHMg',\n",
              "    'LwNZ1AR4_5iukgQYuhmTOg',\n",
              "    'ZWcXoh_RO7rT2DdcyOzyfQ',\n",
              "    'BORPULADzZV6_LJZzcsywQ',\n",
              "    '3cHL1r5w2oLYH-veijtweA',\n",
              "    'XXW_OFaYQkkGOGniujZFHg',\n",
              "    'G0EJjh-dqJBmSEhQRog-hQ',\n",
              "    'lfXfxBms5z1nwzkxxLFBWg',\n",
              "    'i60v66vwf1A13YqcIqGD_A',\n",
              "    'A37JfEzlKQygyzA-5p2dWw',\n",
              "    'nVAJZ6BJ9PPlxDXn976R6A',\n",
              "    'v3AS5LGeV2Si4nOHZ7lgxQ',\n",
              "    'FaHADZARwnY4yvlvpnsfGA',\n",
              "    'fQt9QVAZM9PM0wFDdROvWw',\n",
              "    'pzUm_jLzVa9JAf4sC6tPLg',\n",
              "    'mLjDh0vQYBCY6g9T1HczVw',\n",
              "    'meXjqyhTNLFmknY39y2sMg',\n",
              "    'ZwKUXfZguhBD1zsfb0RLPg',\n",
              "    'SLJX2dksO_BeNMQUe3Nr8Q']),\n",
              "  0)]"
            ]
          },
          "metadata": {
            "tags": []
          },
          "execution_count": 15
        }
      ]
    },
    {
      "cell_type": "code",
      "metadata": {
        "colab": {
          "base_uri": "https://localhost:8080/"
        },
        "id": "oZJNDdmwCssy",
        "outputId": "75fdef95-4b39-4994-d21a-7c1adbd5ac38"
      },
      "source": [
        "user_combos = user_as_key.groupByKey().map(lambda x : (x[0], list(x[1]))).zipWithIndex().map(lambda x: (x[0][0],x[1]))\r\n",
        "users_row_numbers = user_combos.collect()\r\n",
        "users_row_numbers[:10]"
      ],
      "execution_count": null,
      "outputs": [
        {
          "output_type": "execute_result",
          "data": {
            "text/plain": [
              "[('o0p-iTC5yTBV5Yab_7es4g', 0),\n",
              " ('-qj9ouN0bzMXz1vfEslG-A', 1),\n",
              " ('4bQqil4770ey8GfhBgEGuw', 2),\n",
              " ('zsZBYWYEmLLs81_f-HHM8w', 3),\n",
              " ('Fv0e9RIV9jw5TX3ctA1WbA', 4),\n",
              " ('z4RytucxI_XfcMFaEI2DRg', 5),\n",
              " ('BeoFmNoFuz-h8uso-J2_lg', 6),\n",
              " ('pMefTWo6gMdx8WhYSA2u3w', 7),\n",
              " ('Ez8ifxrtOUT5TM4817scOQ', 8),\n",
              " ('UYcmGbelzRa0Q6JqzLoguw', 9)]"
            ]
          },
          "metadata": {
            "tags": []
          },
          "execution_count": 16
        }
      ]
    },
    {
      "cell_type": "code",
      "metadata": {
        "id": "JFmLQEfVCsqP"
      },
      "source": [
        "user_dict = {} #to map user_id to integer in the future\r\n",
        "for user in users_row_numbers: \r\n",
        "\tuser_dict[user[0]] = user[1]"
      ],
      "execution_count": null,
      "outputs": []
    },
    {
      "cell_type": "code",
      "metadata": {
        "colab": {
          "base_uri": "https://localhost:8080/"
        },
        "id": "cANlXEm3CsjZ",
        "outputId": "9b37bc76-ecbf-46f1-d0d4-499deb4c006d"
      },
      "source": [
        "business_combos = business_as_key.groupByKey().map(lambda x : (x[0], list(x[1])))\r\n",
        "business_combos.take(1)"
      ],
      "execution_count": null,
      "outputs": [
        {
          "output_type": "execute_result",
          "data": {
            "text/plain": [
              "[('3MntE_HWbNNoyiLGxywjYA',\n",
              "  ['T13IBpJITI32a1k41rc-tg',\n",
              "   'xhlcoVm3FOKcxZ0phkdO6Q',\n",
              "   '4o0KkpAkyO6r0NHXmobTeQ',\n",
              "   'TQXtrSpsUyvHMriX8hvNWQ',\n",
              "   'kjaUSiRWhR9bF9KxOMbVvg'])]"
            ]
          },
          "metadata": {
            "tags": []
          },
          "execution_count": 18
        }
      ]
    },
    {
      "cell_type": "code",
      "metadata": {
        "colab": {
          "base_uri": "https://localhost:8080/"
        },
        "id": "lbMhPniLFl2J",
        "outputId": "aea07c2e-a401-4414-cef1-dba737a94cfc"
      },
      "source": [
        "business_combos_with_rows = business_combos.map(lambda x: UsertoRowMapping(x,user_dict))\r\n",
        "bus_comb = business_combos_with_rows.collect()\r\n",
        "print(bus_comb[:5])"
      ],
      "execution_count": null,
      "outputs": [
        {
          "output_type": "stream",
          "text": [
            "[('3MntE_HWbNNoyiLGxywjYA', [5628, 791, 722, 7074, 2988]), ('YXohNvMTCmGhFMSQsDZq1g', [2, 25, 6283, 1514, 7139, 2350, 8823, 3339, 5723, 282, 9706, 7950, 10051, 3200, 975, 2834, 2841, 1069, 6774, 5104, 490, 1391, 4588, 2435, 7577, 2187, 1075, 508, 4442, 9550, 9, 3472, 587, 3495, 3153, 5645, 8596, 7783, 3848, 9375, 51, 7047, 1843, 3734, 601, 153, 1279, 303, 265, 910, 5647, 1794, 11212, 8899, 3820, 424, 10752, 6276, 643, 1232, 437, 3127, 1587, 10390, 6224, 756, 7092, 3888, 1669, 6425, 9438, 7342, 4747, 1660, 3390, 7061, 6072, 8736, 1431, 1735, 6523, 2536, 5740, 2332, 6615, 1390, 1050, 6477, 7153, 1137, 6501, 308, 10472, 10882, 4, 8827, 2824, 3666, 10730, 8564, 8029, 2936, 5948, 3171, 7892, 1944, 403, 2179, 3694, 373, 7703, 5737, 3255, 5286, 3559, 2963, 9919, 8328, 11060, 7564, 4602, 1116, 3733, 6894, 5247, 6327, 2679, 3374, 6460, 8550, 544, 6443, 8927, 345, 10243, 1698, 512, 4374, 7148, 3649, 6314, 5932, 4763, 646, 8558, 5940, 7903, 6458, 1293, 1751, 3131, 2438, 1292, 2568, 5255, 4733, 10035, 2325, 5709, 5712, 3533]), ('XO2hZb0xC8jTexSHG4SxFg', [5630, 7144, 7588, 227, 1048, 8145, 11094, 2734, 1274, 7555, 7413, 9885, 7907, 1887, 5242, 6491, 706, 7761, 2362, 7896, 1657, 1658, 6186, 8496, 6694, 6490, 6576, 7596, 8636, 1587, 1561, 8406, 6973, 3091, 1149, 1465, 6793, 10449, 8506, 621, 2197, 2768, 112, 928, 1150, 8859, 471, 4481, 8603, 5947, 449, 11010]), ('xVEtGucSRLk5pxxN0t4i6g', [5632, 5958, 1163, 3154, 3504, 3790, 3820, 4702, 3966, 4458, 5701, 10291, 9658, 10472, 8933, 9544, 6169, 8608, 10043, 7960, 5994, 4618, 3666, 5176, 10046, 2196, 1986, 3544, 1297, 5398, 8747, 3085, 122, 381, 5530, 3842, 10761, 3156, 1116, 5884, 1523, 3259, 9396, 3112, 2232, 5036, 1071, 7285, 3349, 1289, 5901, 2605, 1903, 2454, 4406, 8788, 6924, 6127, 2121, 3509, 1052, 3324, 10368, 111, 1286, 5731, 2483, 200, 10358, 1751, 2964, 6526, 3280, 1331, 7652, 9602, 7593, 361, 8024]), ('ZBfp0AT1NOE0ULg3EIYTSA', [3, 5694, 7704, 6076, 2132, 4184, 7806, 1968, 6269, 3698, 169])]\n"
          ],
          "name": "stdout"
        }
      ]
    },
    {
      "cell_type": "code",
      "metadata": {
        "id": "2FQYtPl2FlyH"
      },
      "source": [
        "business_dict = {} \r\n",
        "for bus in bus_comb: \r\n",
        "\tbusiness_dict[bus[0]] = bus[1]"
      ],
      "execution_count": null,
      "outputs": []
    },
    {
      "cell_type": "code",
      "metadata": {
        "id": "HugC1fcIFltF"
      },
      "source": [
        "max_row_number = len(users_row_numbers) \r\n",
        "n = 60 \r\n",
        "bands = 20\r\n",
        "rows = 3\r\n",
        "hparams = HashParameters(n,max_row_number) "
      ],
      "execution_count": null,
      "outputs": []
    },
    {
      "cell_type": "code",
      "metadata": {
        "colab": {
          "base_uri": "https://localhost:8080/"
        },
        "id": "KF7zTISKFlow",
        "outputId": "f1e5b30c-a700-4370-9892-2ec333b0fbf3"
      },
      "source": [
        "sig_mat = business_combos_with_rows.map(lambda x: GenerateHashFunctions(x, hparams,max_row_number))\r\n",
        "print(sig_mat.take(1))"
      ],
      "execution_count": null,
      "outputs": [
        {
          "output_type": "stream",
          "text": [
            "[('3MntE_HWbNNoyiLGxywjYA', [1784, 2927, 2558, 113, 5753, 2482, 4844, 5301, 2549, 1059, 171, 3110, 1223, 2632, 2796, 3967, 1664, 2243, 161, 2135, 2016, 1205, 2057, 5290, 4046, 5636, 4094, 1561, 1238, 4558, 173, 164, 264, 3822, 2123, 1158, 363, 42, 1115, 2043, 5918, 2695, 909, 4538, 3364, 1061, 1025, 432, 1366, 2369, 1700, 132, 743, 696, 580, 3778, 1524, 4257, 1248, 2189])]\n"
          ],
          "name": "stdout"
        }
      ]
    },
    {
      "cell_type": "code",
      "metadata": {
        "colab": {
          "base_uri": "https://localhost:8080/"
        },
        "id": "xv2EtbKiFll1",
        "outputId": "061954f2-2c53-45b8-f083-84ca098b0d15"
      },
      "source": [
        "banded_sig_mat = sig_mat.map(lambda x: CreateBands(x,rows,n))\r\n",
        "print(banded_sig_mat.take(1))"
      ],
      "execution_count": null,
      "outputs": [
        {
          "output_type": "stream",
          "text": [
            "[('3MntE_HWbNNoyiLGxywjYA', [1784, 2927, 2558, 113, 5753, 2482, 4844, 5301, 2549, 1059, 171, 3110, 1223, 2632, 2796, 3967, 1664, 2243, 161, 2135, 2016, 1205, 2057, 5290, 4046, 5636, 4094, 1561, 1238, 4558, 173, 164, 264, 3822, 2123, 1158, 363, 42, 1115, 2043, 5918, 2695, 909, 4538, 3364, 1061, 1025, 432, 1366, 2369, 1700, 132, 743, 696, 580, 3778, 1524, 4257, 1248, 2189], [[1784, 2927, 2558], [113, 5753, 2482], [4844, 5301, 2549], [1059, 171, 3110], [1223, 2632, 2796], [3967, 1664, 2243], [161, 2135, 2016], [1205, 2057, 5290], [4046, 5636, 4094], [1561, 1238, 4558], [173, 164, 264], [3822, 2123, 1158], [363, 42, 1115], [2043, 5918, 2695], [909, 4538, 3364], [1061, 1025, 432], [1366, 2369, 1700], [132, 743, 696], [580, 3778, 1524], [4257, 1248, 2189]])]\n"
          ],
          "name": "stdout"
        }
      ]
    },
    {
      "cell_type": "code",
      "metadata": {
        "id": "GK7usrwZK2tU"
      },
      "source": [
        "b1_to_b20_amended = []\r\n",
        "\r\n",
        "for i in range(20):\r\n",
        "    b1 = banded_sig_mat.map(lambda x:(x[0],x[1],x[2][i]))\r\n",
        "    b1_to_b20_amended.append(b1.map(lambda x:BandManipulation(x)).groupByKey().map(lambda x : (x[0], list(x[1]))).filter(lambda x:len(x[1])>=2))\r\n",
        "\r\n",
        "candidates = None\r\n",
        "candidates = b1_to_b20_amended[0].union(b1_to_b20_amended[1])\r\n",
        "\r\n",
        "for b_amended in b1_to_b20_amended[2:]:\r\n",
        "    candidates = candidates.union(b_amended)    "
      ],
      "execution_count": null,
      "outputs": []
    },
    {
      "cell_type": "code",
      "metadata": {
        "id": "LsYrAgREQbmP"
      },
      "source": [
        "candidates_cleaned = candidates.map(lambda x: RemoveSigMat(x))\r\n",
        "candidates_original = candidates_cleaned.map(lambda x: Transform(x,business_dict)) #add original user_id\r\n",
        "candidate_sim = candidates_original.collect()"
      ],
      "execution_count": null,
      "outputs": []
    },
    {
      "cell_type": "code",
      "metadata": {
        "id": "IQGERO5_W9KP"
      },
      "source": [
        "jac_sim = [] \r\n",
        "for cand in candidate_sim:\r\n",
        "\tif isinstance(cand,tuple):\r\n",
        "\t    pair1 = cand[0][0]\r\n",
        "\t    pair1_data = set(cand[0][1])\r\n",
        "\t    pair2 = cand[1][0]\r\n",
        "\t    pair2_data = set(cand[1][1])\r\n",
        "\t    jac = ((len(pair1_data&pair2_data)))/float(len(pair1_data|pair2_data))\r\n",
        "\t    inp = ((pair1,pair2),jac)\r\n",
        "\t    jac_sim.append(inp)\r\n",
        "\telse:\r\n",
        "\t    for combo in cand: \r\n",
        "\t        pair1 = combo[0][0]\r\n",
        "\t        pair1_data = set(combo[0][1])\r\n",
        "\t        pair2 = combo[1][0]\r\n",
        "\t        pair2_data = set(combo[1][1])\r\n",
        "\t        jac = ((len(pair1_data&pair2_data)))/float(len(pair1_data|pair2_data))\r\n",
        "\t        inp = ((pair1,pair2),jac)\r\n",
        "\t        jac_sim.append(inp)"
      ],
      "execution_count": null,
      "outputs": []
    },
    {
      "cell_type": "code",
      "metadata": {
        "id": "kedoNK1zf4-K"
      },
      "source": [
        "similar = {} #filter out those with jaccard less than 0.5\r\n",
        "for pair in jac_sim:\r\n",
        "\ta = pair[0][0]\r\n",
        "\tb = pair[0][1]\r\n",
        "\tjaccard = pair[1]\r\n",
        "\tif(jaccard>=0.5):\r\n",
        "\t    if(a<b):\r\n",
        "\t        if (a,b) not in similar:\r\n",
        "\t            similar[(a,b)] = jaccard       \r\n",
        "\t    else:\r\n",
        "\t        if (b,a) not in similar:\r\n",
        "\t            similar[(b,a)] = jaccard \r\n"
      ],
      "execution_count": null,
      "outputs": []
    },
    {
      "cell_type": "code",
      "metadata": {
        "id": "lTBFTlR7f46M"
      },
      "source": [
        "similar_pairs2 = [] \r\n",
        "for k,v in similar.items():\r\n",
        "\tinp = (k,v)\r\n",
        "\tsimilar_pairs2.append(inp)\r\n",
        "sorted_similar_pair2 = sorted(similar_pairs2, key=lambda x: (x[0][0], x[0][1]))"
      ],
      "execution_count": null,
      "outputs": []
    },
    {
      "cell_type": "code",
      "metadata": {
        "colab": {
          "base_uri": "https://localhost:8080/"
        },
        "id": "6pUGnj-rin-e",
        "outputId": "2d1beace-6dfd-48d8-a339-a75fdf9e8a46"
      },
      "source": [
        "sorted_similar_pair2[-10:]"
      ],
      "execution_count": null,
      "outputs": [
        {
          "output_type": "execute_result",
          "data": {
            "text/plain": [
              "[(('uhRh3jq8blzxZLJH3xks_Q', 'vwpsor_zVUTJJkp301Dpog'), 0.5),\n",
              " (('uwO1mCtTOyzQN96eRtfk_g', 'y0maJiW69rMQRbrfXtmssw'), 0.5),\n",
              " (('uzpdcxvlKx5BuoWU3NRHbA', 'xeN57OX3lJfY96nfEx63fg'), 1.0),\n",
              " (('vCopginiBsz1STNhQPb8XA', 'yUB8CDsYMES3cN-xcHXCkQ'), 0.5555555555555556),\n",
              " (('vVdY2qDO7dkUrU8LXYZ1uA', 'zrtRx2bm55zVeYIpzLLm3w'), 0.6666666666666666),\n",
              " (('vadTcg3fvqiXj0Bh9Lv3zg', 'wvV-mcM-Djgv6Z29rnwlVg'), 0.5),\n",
              " (('w9CWjQW-tiAdWSPBzmXLvA', 'xD0qY7CyI2PCcr0lvVp9-A'), 0.5),\n",
              " (('wfsCX4M-uf_l-hQA1sSWyQ', 'yFKNTMyCQZ92M91A_yavhw'), 0.5),\n",
              " (('wpDJUu8Ty_eyQJENUy7fIw', 'z3hD4GX5gSJtuqNhN-o2cg'), 0.5),\n",
              " (('wtE6O9u1ni81T_TW27uYgQ', 'zi0HXFQuzMeozBwQ4iWs7w'), 0.5)]"
            ]
          },
          "metadata": {
            "tags": []
          },
          "execution_count": 38
        }
      ]
    },
    {
      "cell_type": "code",
      "metadata": {
        "id": "_qfTM8h0gRS3"
      },
      "source": [
        "with open('/content/drive/MyDrive/yelp_sample/lsh_results','w') as outfile:\r\n",
        "\toutfile.write('business_id_1')\r\n",
        "\toutfile.write(\",\")\r\n",
        "\toutfile.write('business_id_2')\r\n",
        "\toutfile.write(\",\")\r\n",
        "\toutfile.write(\"similarity\")\r\n",
        "\toutfile.write('\\n')\r\n",
        "\tfor p in sorted_similar_pair2:\r\n",
        "\t\toutfile.write(str(p[0][0]))\r\n",
        "\t\toutfile.write(\",\")\r\n",
        "\t\toutfile.write(str(p[0][1]))\r\n",
        "\t\toutfile.write(\",\")\r\n",
        "\t\toutfile.write(str(p[1]))\r\n",
        "\t\toutfile.write(\"\\n\")\r\n",
        "outfile.close()"
      ],
      "execution_count": null,
      "outputs": []
    },
    {
      "cell_type": "code",
      "metadata": {
        "id": "2WNMMczuiiHR"
      },
      "source": [
        ""
      ],
      "execution_count": null,
      "outputs": []
    },
    {
      "cell_type": "code",
      "metadata": {
        "id": "spur4Rb6ge8o"
      },
      "source": [
        ""
      ],
      "execution_count": null,
      "outputs": []
    },
    {
      "cell_type": "code",
      "metadata": {
        "id": "NfF4x2nIgy_0"
      },
      "source": [
        ""
      ],
      "execution_count": null,
      "outputs": []
    },
    {
      "cell_type": "code",
      "metadata": {
        "id": "45n704j1gy9J"
      },
      "source": [
        ""
      ],
      "execution_count": null,
      "outputs": []
    }
  ]
}